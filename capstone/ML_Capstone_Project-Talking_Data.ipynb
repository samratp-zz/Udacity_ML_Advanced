{
 "cells": [
  {
   "cell_type": "markdown",
   "metadata": {},
   "source": [
    "# Machine Learning Capstone Project"
   ]
  },
  {
   "cell_type": "markdown",
   "metadata": {},
   "source": [
    "## TalkingData AdTracking Fraud Detection Challenge"
   ]
  },
  {
   "cell_type": "markdown",
   "metadata": {},
   "source": [
    "----------------------------------"
   ]
  },
  {
   "cell_type": "markdown",
   "metadata": {},
   "source": [
    "### 1. Project Overview"
   ]
  },
  {
   "cell_type": "markdown",
   "metadata": {},
   "source": [
    "With the latest web technologies there are many new avenues that are opened for the mankind. There are Millions of companies across the Globe that are providing varied services including Domain Registration, Online Gaming, Web Hosting, Cab Booking, Food Ordering, Health Consultation, Online Advertising and lot more. Many of these services makes our life very easy but at the same time we can easily become a victim of a fraud if we are not careful. One of the frauds that is related to Online Advertising is \"Click Fraud\". Click fraud is a type of fraud that occurs on the Internet in Pay-Per-Click (PPC), Pay-Per-Action (PPA) or Cost-Per-Activity (CPA) online advertising. In this type of advertising, the websites owners that post the ads are paid an amount of money determined by how many visitors to the sites or mobile app click on the ads. Fraud occurs when a person, automated script or computer program imitates a legitimate user clicking on such an ad without having an actual interest in the target of the ad's link."
   ]
  },
  {
   "cell_type": "markdown",
   "metadata": {},
   "source": [
    "### 2. Problem Statement"
   ]
  },
  {
   "cell_type": "markdown",
   "metadata": {},
   "source": [
    "One of the major areas of \"Click Fraud\" is in the area of mobile ad channels where automated scripts may click mobile ads or download a mobile app without a real reason. The problem that we will be solving here is to predict if a user click is genuine or fraudulent. With over 1 billion smart mobile devices in active use every month, China is the largest mobile market in the world and therefore suffers from huge volumes of fraudulent traffic.\n",
    "\n",
    "TalkingData, China’s largest independent big data service platform, covers over 70% of active mobile devices nationwide. They handle 3 billion clicks per day, of which 90% are potentially fraudulent. Their current approach to prevent click fraud for app developers is to measure the journey of a user’s click across their portfolio, and flag IP addresses who produce lots of clicks, but never end up installing apps.\n",
    "\n",
    "So, here we have to build an algorithm that predicts whether a user will download an app after clicking a mobile app Ad."
   ]
  },
  {
   "cell_type": "markdown",
   "metadata": {},
   "source": [
    "### 3. Datasets and Inputs"
   ]
  },
  {
   "cell_type": "markdown",
   "metadata": {},
   "source": [
    "To build an algorithm that predicts whether a user will download an app after clicking a mobile app ad TalkingData has provided us a generous dataset covering approximately 200 million clicks over 4 days.\n",
    "\n",
    "**File descriptions**\n",
    "\n",
    "- train.csv - The training set consisting of approximately 200 Million rows\n",
    "- train_sample.csv - 100,000 randomly-selected rows of training data\n",
    "- test.csv - the testing set consisting of approximately 20 Million rows\n",
    "\n",
    "**Data fields**\n",
    "\n",
    "Each row of the training data contains a click record, with the following features:\n",
    "\n",
    "- ip: IP Address of click.\n",
    "- app: App id for marketing.\n",
    "- device: Device type id of user mobile phone (e.g., iPhone 6 Plus, iPhone 7, Huawei mate 7, etc.)\n",
    "- os: OS version id of user mobile phone\n",
    "- channel: Channel id of mobile ad publisher\n",
    "- click_time: Timestamp of click (UTC)\n",
    "- attributed_time: If user download the app for after clicking an ad, this is the time of the app download\n",
    "- is_attributed: The target that is to be predicted, indicating the app was downloaded"
   ]
  },
  {
   "cell_type": "markdown",
   "metadata": {},
   "source": [
    "### 4. Evaluation Metrics"
   ]
  },
  {
   "cell_type": "markdown",
   "metadata": {},
   "source": [
    "As the submissions are evaluated on area under the ROC curve between the predicted probability and the observed target we will also use the same metric.\n",
    "\n",
    "A receiver operating characteristic (ROC), or simply ROC curve, is a graphical plot which illustrates the performance of a binary classifier system as its discrimination threshold is varied. It is created by plotting the fraction of true positives out of the positives (TPR = true positive rate) vs. the fraction of false positives out of the negatives (FPR = false positive rate), at various threshold settings. TPR is also known as sensitivity, and FPR is one minus the specificity or true negative rate."
   ]
  },
  {
   "cell_type": "markdown",
   "metadata": {},
   "source": [
    "### 5. Load Required Libraries"
   ]
  },
  {
   "cell_type": "code",
   "execution_count": 112,
   "metadata": {},
   "outputs": [],
   "source": [
    "# Load required libraries\n",
    "import os\n",
    "import subprocess\n",
    "import gc\n",
    "import random\n",
    "\n",
    "import sqlite3\n",
    "import zipfile\n",
    "\n",
    "import numpy as np\n",
    "import pandas as pd\n",
    "\n",
    "from sklearn.ensemble import RandomForestClassifier\n",
    "from sklearn.model_selection import train_test_split\n",
    "from sklearn.metrics import roc_curve\n",
    "\n",
    "import lightgbm as lgb\n",
    "\n",
    "import seaborn as sns\n",
    "\n",
    "import matplotlib.pyplot as plt\n",
    "%matplotlib inline"
   ]
  },
  {
   "cell_type": "code",
   "execution_count": 113,
   "metadata": {},
   "outputs": [],
   "source": [
    "random.seed(2018)"
   ]
  },
  {
   "cell_type": "markdown",
   "metadata": {},
   "source": [
    "### 6. Train and Test File Details"
   ]
  },
  {
   "cell_type": "code",
   "execution_count": 114,
   "metadata": {},
   "outputs": [],
   "source": [
    "# Read the Train and Test files\n",
    "zf_train = zipfile.ZipFile('train.csv.zip', mode='r')\n",
    "zf_test = zipfile.ZipFile('test.csv.zip', mode='r')"
   ]
  },
  {
   "cell_type": "code",
   "execution_count": 115,
   "metadata": {
    "scrolled": true
   },
   "outputs": [
    {
     "name": "stdout",
     "output_type": "stream",
     "text": [
      "File Name         -> mnt/ssd/kaggle-talkingdata2/competition_files/train.csv\n",
      "Compressed Size   -> 1238.43 MB\n",
      "UnCompressed Size -> 7188.46 MB\n"
     ]
    }
   ],
   "source": [
    "# Print details of the Train csv file.\n",
    "for info in zf_train.infolist():\n",
    "    print(\"File Name         -> {}\".format(info.filename))\n",
    "    print(\"Compressed Size   -> {:.2f} {}\".format(info.compress_size/(1024*1024), \"MB\"))\n",
    "    print(\"UnCompressed Size -> {:.2f} {}\".format(info.file_size/(1024*1024), \"MB\"))"
   ]
  },
  {
   "cell_type": "code",
   "execution_count": 116,
   "metadata": {},
   "outputs": [
    {
     "name": "stdout",
     "output_type": "stream",
     "text": [
      "File Name         -> test.csv\n",
      "Compressed Size   -> 161.93 MB\n",
      "UnCompressed Size -> 823.28 MB\n"
     ]
    }
   ],
   "source": [
    "# Print details of the Test csv file.\n",
    "for info in zf_test.infolist():\n",
    "    print(\"File Name         -> {}\".format(info.filename))\n",
    "    print(\"Compressed Size   -> {:.2f} {}\".format(info.compress_size/(1024*1024), \"MB\"))\n",
    "    print(\"UnCompressed Size -> {:.2f} {}\".format(info.file_size/(1024*1024), \"MB\"))"
   ]
  },
  {
   "cell_type": "markdown",
   "metadata": {},
   "source": [
    "As we see above, we have a very huge train file that has an UnCompressed Size of around 7.2GB and compressed file is around 1.2GB. Also the test file is around 823MB uncompressed and after compression comes to around 162MB."
   ]
  },
  {
   "cell_type": "code",
   "execution_count": 117,
   "metadata": {},
   "outputs": [
    {
     "name": "stdout",
     "output_type": "stream",
     "text": [
      "Records in train.csv => 184903891\n"
     ]
    }
   ],
   "source": [
    "# Print records in train.csv\n",
    "with open('train.csv') as f:\n",
    "    size=len([0 for _ in f])\n",
    "    print(\"Records in train.csv => {}\".format(size))"
   ]
  },
  {
   "cell_type": "code",
   "execution_count": 118,
   "metadata": {},
   "outputs": [
    {
     "name": "stdout",
     "output_type": "stream",
     "text": [
      "Records in test.csv => 18790470\n"
     ]
    }
   ],
   "source": [
    "# Print records in test.csv\n",
    "with open('test.csv') as f:\n",
    "    size=len([0 for _ in f])\n",
    "    print(\"Records in test.csv => {}\".format(size))"
   ]
  },
  {
   "cell_type": "markdown",
   "metadata": {},
   "source": [
    "As can be seen from the above output, we have around **184.9 Million** rows in the train set and **18.8 Million** rows in the test set."
   ]
  },
  {
   "cell_type": "markdown",
   "metadata": {},
   "source": [
    "As it is very difficult to work on the complete training data, we will use the last **25 Million** rows from the training set and build a model."
   ]
  },
  {
   "cell_type": "markdown",
   "metadata": {},
   "source": [
    "### 7. Analyze Feature Data Types"
   ]
  },
  {
   "cell_type": "markdown",
   "metadata": {},
   "source": [
    "Before we go ahead and read the training data we will take a look at the \"train_sample.csv\" file provided by the organizers."
   ]
  },
  {
   "cell_type": "code",
   "execution_count": 119,
   "metadata": {},
   "outputs": [
    {
     "data": {
      "text/html": [
       "<div>\n",
       "<style>\n",
       "    .dataframe thead tr:only-child th {\n",
       "        text-align: right;\n",
       "    }\n",
       "\n",
       "    .dataframe thead th {\n",
       "        text-align: left;\n",
       "    }\n",
       "\n",
       "    .dataframe tbody tr th {\n",
       "        vertical-align: top;\n",
       "    }\n",
       "</style>\n",
       "<table border=\"1\" class=\"dataframe\">\n",
       "  <thead>\n",
       "    <tr style=\"text-align: right;\">\n",
       "      <th></th>\n",
       "      <th>ip</th>\n",
       "      <th>app</th>\n",
       "      <th>device</th>\n",
       "      <th>os</th>\n",
       "      <th>channel</th>\n",
       "      <th>click_time</th>\n",
       "      <th>attributed_time</th>\n",
       "      <th>is_attributed</th>\n",
       "    </tr>\n",
       "  </thead>\n",
       "  <tbody>\n",
       "    <tr>\n",
       "      <th>0</th>\n",
       "      <td>87540</td>\n",
       "      <td>12</td>\n",
       "      <td>1</td>\n",
       "      <td>13</td>\n",
       "      <td>497</td>\n",
       "      <td>2017-11-07 09:30:38</td>\n",
       "      <td>NaN</td>\n",
       "      <td>0</td>\n",
       "    </tr>\n",
       "    <tr>\n",
       "      <th>1</th>\n",
       "      <td>105560</td>\n",
       "      <td>25</td>\n",
       "      <td>1</td>\n",
       "      <td>17</td>\n",
       "      <td>259</td>\n",
       "      <td>2017-11-07 13:40:27</td>\n",
       "      <td>NaN</td>\n",
       "      <td>0</td>\n",
       "    </tr>\n",
       "    <tr>\n",
       "      <th>2</th>\n",
       "      <td>101424</td>\n",
       "      <td>12</td>\n",
       "      <td>1</td>\n",
       "      <td>19</td>\n",
       "      <td>212</td>\n",
       "      <td>2017-11-07 18:05:24</td>\n",
       "      <td>NaN</td>\n",
       "      <td>0</td>\n",
       "    </tr>\n",
       "    <tr>\n",
       "      <th>3</th>\n",
       "      <td>94584</td>\n",
       "      <td>13</td>\n",
       "      <td>1</td>\n",
       "      <td>13</td>\n",
       "      <td>477</td>\n",
       "      <td>2017-11-07 04:58:08</td>\n",
       "      <td>NaN</td>\n",
       "      <td>0</td>\n",
       "    </tr>\n",
       "    <tr>\n",
       "      <th>4</th>\n",
       "      <td>68413</td>\n",
       "      <td>12</td>\n",
       "      <td>1</td>\n",
       "      <td>1</td>\n",
       "      <td>178</td>\n",
       "      <td>2017-11-09 09:00:09</td>\n",
       "      <td>NaN</td>\n",
       "      <td>0</td>\n",
       "    </tr>\n",
       "  </tbody>\n",
       "</table>\n",
       "</div>"
      ],
      "text/plain": [
       "       ip  app  device  os  channel           click_time attributed_time  \\\n",
       "0   87540   12       1  13      497  2017-11-07 09:30:38             NaN   \n",
       "1  105560   25       1  17      259  2017-11-07 13:40:27             NaN   \n",
       "2  101424   12       1  19      212  2017-11-07 18:05:24             NaN   \n",
       "3   94584   13       1  13      477  2017-11-07 04:58:08             NaN   \n",
       "4   68413   12       1   1      178  2017-11-09 09:00:09             NaN   \n",
       "\n",
       "   is_attributed  \n",
       "0              0  \n",
       "1              0  \n",
       "2              0  \n",
       "3              0  \n",
       "4              0  "
      ]
     },
     "execution_count": 119,
     "metadata": {},
     "output_type": "execute_result"
    }
   ],
   "source": [
    "train_sample = pd.read_csv(\"train_sample.csv\")\n",
    "train_sample.head()"
   ]
  },
  {
   "cell_type": "code",
   "execution_count": 120,
   "metadata": {},
   "outputs": [
    {
     "name": "stdout",
     "output_type": "stream",
     "text": [
      "<class 'pandas.core.frame.DataFrame'>\n",
      "RangeIndex: 100000 entries, 0 to 99999\n",
      "Data columns (total 8 columns):\n",
      "ip                 100000 non-null int64\n",
      "app                100000 non-null int64\n",
      "device             100000 non-null int64\n",
      "os                 100000 non-null int64\n",
      "channel            100000 non-null int64\n",
      "click_time         100000 non-null object\n",
      "attributed_time    227 non-null object\n",
      "is_attributed      100000 non-null int64\n",
      "dtypes: int64(6), object(2)\n",
      "memory usage: 6.1+ MB\n"
     ]
    }
   ],
   "source": [
    "train_sample.info()"
   ]
  },
  {
   "cell_type": "markdown",
   "metadata": {},
   "source": [
    "As the data is huge we could do a simple optimization to effectively use our memory. We know that Python uses its best of knowledge to decide on the data types and might allocate a higher size data type than really required, say int64 instead of unit16.\n",
    "\n",
    "A simple step that we will be doing here is to **sqlite3** to build a database file from the train.csv and analyze the data in each of the coulmns. With this information we will be able to decide on the best data type for each of the features.\n",
    "\n",
    "```\n",
    "con = sqlite3.connect(\"talkingdata_train.db\")  # Opens file if exists, else creates file\n",
    "cur = con.cursor()  # This object lets us actually send messages to our DB and receive results\n",
    "\n",
    "sql = \"SELECT sql FROM sqlite_master WHERE name='test_data'\"\n",
    "cur.execute(sql)\n",
    "\n",
    "if not cur.fetchall():\n",
    "    for chunk in pd.read_csv(\"train.csv\", chunksize=5000):\n",
    "        chunk.to_sql(name=\"train_data\", con=con, if_exists=\"append\", index=False)  #\"name\" is name of table\n",
    "        gc.collect()\n",
    "\n",
    "# Below SQL queries can be used to get the min and max values for each of the features\n",
    "\n",
    "\n",
    "Below we will print the max and min values for the ip column in the train_data table. The actual results returned for this query on the complete train data is (1, 364778). This values will help us to choose a datatype for this column when loading the data in to a pandas DataFrame. So, for ip we can choose uint32\n",
    "\n",
    "sql = \"select min(ip), max(ip) from train_data\"\n",
    "cur.execute(sql)\n",
    "cur.fetchall()\n",
    "\n",
    "Below we will print the max and min values for the app column in the train_data table. The actul results returned for this query on the complete train data is (0, 768). This values will help us to choose a datatype for this column when loading the data in to a pandas DataFrame. So, for app we can choose uint16\n",
    "\n",
    "sql = \"select min(app), max(app) from train_data\"\n",
    "cur.execute(sql)\n",
    "cur.fetchall()\n",
    "\n",
    "Below we will print the max and min values for the device column in the train_data table. The actul results returned for this query on the complete train data is (0, 4227). This values will help us to choose a datatype for this column when loading the data in to a pandas DataFrame. So, for device we can choose uint16\n",
    "\n",
    "sql = \"select min(device), max(device) from train_data\"\n",
    "cur.execute(sql)\n",
    "cur.fetchall()\n",
    "\n",
    "Below we will print the max and min values for the os column in the train_data table. The actul results returned for this query on the complete train data is (0, 956). This values will help us to choose a datatype for this column when loading the data in to a pandas DataFrame. So, for os we can choose uint16\n",
    "\n",
    "sql = \"select min(os), max(os) from train_data\"\n",
    "cur.execute(sql)\n",
    "cur.fetchall()\n",
    "\n",
    "Below we will print the max and min values for the channel column in the train_data table. The actul results returned for this query on the complete train data is (0, 500). This values will help us to choose a datatype for this column when loading the data in to a pandas DataFrame. So, for channel we can choose uint16\n",
    "\n",
    "sql = \"select min(channel), max(channel) from train_data\"\n",
    "cur.execute(sql)\n",
    "cur.fetchall()\n",
    "\n",
    "Below we will print the max and min values for the is_attributed column in the train_data table. The actul results returned for this query on the complete train data is (0, 1). This values will help us to choose a datatype for this column when loading the data in to a pandas DataFrame. So, for is_attributed we can choose uint8\n",
    "\n",
    "sql = \"select min(is_attributed), max(is_attributed) from train_data\"\n",
    "cur.execute(sql)\n",
    "cur.fetchall()\n",
    "\n",
    "```"
   ]
  },
  {
   "cell_type": "markdown",
   "metadata": {},
   "source": [
    "Below we will see what percentage of data is attributed."
   ]
  },
  {
   "cell_type": "markdown",
   "metadata": {},
   "source": [
    "```\n",
    "Below we will get the records where the value of is_attributed is 1. For the actual data we can see that this value is 456846 which means that we have only 0.247 % of records where is_attributed is 1.\n",
    "\n",
    "sql = \"select count(*) from train_data where is_attributed=1\"\n",
    "cur.execute(sql)\n",
    "cur.fetchall()\n",
    "```"
   ]
  },
  {
   "cell_type": "markdown",
   "metadata": {},
   "source": [
    "As can be seen from the above information we have a very highly imbalanced data set."
   ]
  },
  {
   "cell_type": "code",
   "execution_count": 121,
   "metadata": {},
   "outputs": [],
   "source": [
    "# Data types of each of the features are chosen based on the value range instead of relying on the python interpreter.\n",
    "dtypes = {\n",
    "        'ip'            : 'uint32',\n",
    "        'app'           : 'uint16',\n",
    "        'device'        : 'uint16',\n",
    "        'os'            : 'uint16',\n",
    "        'channel'       : 'uint16',\n",
    "        'is_attributed' : 'uint8',\n",
    "        'click_id'      : 'uint32'\n",
    "        }"
   ]
  },
  {
   "cell_type": "markdown",
   "metadata": {},
   "source": [
    "### 8. Read Train and Test Data"
   ]
  },
  {
   "cell_type": "code",
   "execution_count": 169,
   "metadata": {},
   "outputs": [
    {
     "data": {
      "text/html": [
       "<div>\n",
       "<style>\n",
       "    .dataframe thead tr:only-child th {\n",
       "        text-align: right;\n",
       "    }\n",
       "\n",
       "    .dataframe thead th {\n",
       "        text-align: left;\n",
       "    }\n",
       "\n",
       "    .dataframe tbody tr th {\n",
       "        vertical-align: top;\n",
       "    }\n",
       "</style>\n",
       "<table border=\"1\" class=\"dataframe\">\n",
       "  <thead>\n",
       "    <tr style=\"text-align: right;\">\n",
       "      <th></th>\n",
       "      <th>ip</th>\n",
       "      <th>app</th>\n",
       "      <th>device</th>\n",
       "      <th>os</th>\n",
       "      <th>channel</th>\n",
       "      <th>click_time</th>\n",
       "      <th>attributed_time</th>\n",
       "      <th>is_attributed</th>\n",
       "    </tr>\n",
       "  </thead>\n",
       "  <tbody>\n",
       "    <tr>\n",
       "      <th>0</th>\n",
       "      <td>33748</td>\n",
       "      <td>18</td>\n",
       "      <td>1</td>\n",
       "      <td>10</td>\n",
       "      <td>134</td>\n",
       "      <td>2017-11-09 08:15:22</td>\n",
       "      <td>NaN</td>\n",
       "      <td>0</td>\n",
       "    </tr>\n",
       "    <tr>\n",
       "      <th>1</th>\n",
       "      <td>26810</td>\n",
       "      <td>3</td>\n",
       "      <td>1</td>\n",
       "      <td>25</td>\n",
       "      <td>489</td>\n",
       "      <td>2017-11-09 08:15:22</td>\n",
       "      <td>NaN</td>\n",
       "      <td>0</td>\n",
       "    </tr>\n",
       "    <tr>\n",
       "      <th>2</th>\n",
       "      <td>105587</td>\n",
       "      <td>21</td>\n",
       "      <td>1</td>\n",
       "      <td>13</td>\n",
       "      <td>128</td>\n",
       "      <td>2017-11-09 08:15:22</td>\n",
       "      <td>NaN</td>\n",
       "      <td>0</td>\n",
       "    </tr>\n",
       "    <tr>\n",
       "      <th>3</th>\n",
       "      <td>3542</td>\n",
       "      <td>2</td>\n",
       "      <td>1</td>\n",
       "      <td>13</td>\n",
       "      <td>435</td>\n",
       "      <td>2017-11-09 08:15:22</td>\n",
       "      <td>NaN</td>\n",
       "      <td>0</td>\n",
       "    </tr>\n",
       "    <tr>\n",
       "      <th>4</th>\n",
       "      <td>124339</td>\n",
       "      <td>3</td>\n",
       "      <td>1</td>\n",
       "      <td>41</td>\n",
       "      <td>211</td>\n",
       "      <td>2017-11-09 08:15:22</td>\n",
       "      <td>NaN</td>\n",
       "      <td>0</td>\n",
       "    </tr>\n",
       "  </tbody>\n",
       "</table>\n",
       "</div>"
      ],
      "text/plain": [
       "       ip  app  device  os  channel           click_time attributed_time  \\\n",
       "0   33748   18       1  10      134  2017-11-09 08:15:22             NaN   \n",
       "1   26810    3       1  25      489  2017-11-09 08:15:22             NaN   \n",
       "2  105587   21       1  13      128  2017-11-09 08:15:22             NaN   \n",
       "3    3542    2       1  13      435  2017-11-09 08:15:22             NaN   \n",
       "4  124339    3       1  41      211  2017-11-09 08:15:22             NaN   \n",
       "\n",
       "   is_attributed  \n",
       "0              0  \n",
       "1              0  \n",
       "2              0  \n",
       "3              0  \n",
       "4              0  "
      ]
     },
     "execution_count": 169,
     "metadata": {},
     "output_type": "execute_result"
    }
   ],
   "source": [
    "# Read the last 25 Million records from training data\n",
    "train_df = pd.read_csv(\"train.csv\", skiprows=range(1,159903891), nrows=25000000, dtype=dtypes)\n",
    "train_df.head()"
   ]
  },
  {
   "cell_type": "code",
   "execution_count": 170,
   "metadata": {},
   "outputs": [
    {
     "data": {
      "text/plain": [
       "['attributed_time']"
      ]
     },
     "execution_count": 170,
     "metadata": {},
     "output_type": "execute_result"
    }
   ],
   "source": [
    "# Check if there are any NaN values in the Train DF\n",
    "train_df.columns[train_df.isnull().any()].tolist()"
   ]
  },
  {
   "cell_type": "markdown",
   "metadata": {},
   "source": [
    "**attributed_time** is set when the **is_attributed** field is True. This is the time when an App was actually downloaded after an Ad was clicked."
   ]
  },
  {
   "cell_type": "code",
   "execution_count": 171,
   "metadata": {},
   "outputs": [
    {
     "data": {
      "text/html": [
       "<div>\n",
       "<style>\n",
       "    .dataframe thead tr:only-child th {\n",
       "        text-align: right;\n",
       "    }\n",
       "\n",
       "    .dataframe thead th {\n",
       "        text-align: left;\n",
       "    }\n",
       "\n",
       "    .dataframe tbody tr th {\n",
       "        vertical-align: top;\n",
       "    }\n",
       "</style>\n",
       "<table border=\"1\" class=\"dataframe\">\n",
       "  <thead>\n",
       "    <tr style=\"text-align: right;\">\n",
       "      <th></th>\n",
       "      <th>click_id</th>\n",
       "      <th>ip</th>\n",
       "      <th>app</th>\n",
       "      <th>device</th>\n",
       "      <th>os</th>\n",
       "      <th>channel</th>\n",
       "      <th>click_time</th>\n",
       "    </tr>\n",
       "  </thead>\n",
       "  <tbody>\n",
       "    <tr>\n",
       "      <th>0</th>\n",
       "      <td>0</td>\n",
       "      <td>5744</td>\n",
       "      <td>9</td>\n",
       "      <td>1</td>\n",
       "      <td>3</td>\n",
       "      <td>107</td>\n",
       "      <td>2017-11-10 04:00:00</td>\n",
       "    </tr>\n",
       "    <tr>\n",
       "      <th>1</th>\n",
       "      <td>1</td>\n",
       "      <td>119901</td>\n",
       "      <td>9</td>\n",
       "      <td>1</td>\n",
       "      <td>3</td>\n",
       "      <td>466</td>\n",
       "      <td>2017-11-10 04:00:00</td>\n",
       "    </tr>\n",
       "    <tr>\n",
       "      <th>2</th>\n",
       "      <td>2</td>\n",
       "      <td>72287</td>\n",
       "      <td>21</td>\n",
       "      <td>1</td>\n",
       "      <td>19</td>\n",
       "      <td>128</td>\n",
       "      <td>2017-11-10 04:00:00</td>\n",
       "    </tr>\n",
       "    <tr>\n",
       "      <th>3</th>\n",
       "      <td>3</td>\n",
       "      <td>78477</td>\n",
       "      <td>15</td>\n",
       "      <td>1</td>\n",
       "      <td>13</td>\n",
       "      <td>111</td>\n",
       "      <td>2017-11-10 04:00:00</td>\n",
       "    </tr>\n",
       "    <tr>\n",
       "      <th>4</th>\n",
       "      <td>4</td>\n",
       "      <td>123080</td>\n",
       "      <td>12</td>\n",
       "      <td>1</td>\n",
       "      <td>13</td>\n",
       "      <td>328</td>\n",
       "      <td>2017-11-10 04:00:00</td>\n",
       "    </tr>\n",
       "  </tbody>\n",
       "</table>\n",
       "</div>"
      ],
      "text/plain": [
       "   click_id      ip  app  device  os  channel           click_time\n",
       "0         0    5744    9       1   3      107  2017-11-10 04:00:00\n",
       "1         1  119901    9       1   3      466  2017-11-10 04:00:00\n",
       "2         2   72287   21       1  19      128  2017-11-10 04:00:00\n",
       "3         3   78477   15       1  13      111  2017-11-10 04:00:00\n",
       "4         4  123080   12       1  13      328  2017-11-10 04:00:00"
      ]
     },
     "execution_count": 171,
     "metadata": {},
     "output_type": "execute_result"
    }
   ],
   "source": [
    "# Read the records from test data\n",
    "test_df = pd.read_csv(\"test.csv\", dtype=dtypes)\n",
    "test_df.head()"
   ]
  },
  {
   "cell_type": "code",
   "execution_count": 172,
   "metadata": {},
   "outputs": [
    {
     "data": {
      "text/plain": [
       "[]"
      ]
     },
     "execution_count": 172,
     "metadata": {},
     "output_type": "execute_result"
    }
   ],
   "source": [
    "# Check if there are any NaN values in the Test DF\n",
    "test_df.columns[test_df.isnull().any()].tolist()"
   ]
  },
  {
   "cell_type": "markdown",
   "metadata": {},
   "source": [
    "It's good to see that there are no NaN values in either the Train or Test DF."
   ]
  },
  {
   "cell_type": "code",
   "execution_count": 173,
   "metadata": {},
   "outputs": [
    {
     "data": {
      "text/plain": [
       "ip                 91647\n",
       "app                  435\n",
       "device              1905\n",
       "os                   396\n",
       "channel              182\n",
       "click_time         27879\n",
       "attributed_time    24540\n",
       "is_attributed          2\n",
       "dtype: int64"
      ]
     },
     "execution_count": 173,
     "metadata": {},
     "output_type": "execute_result"
    }
   ],
   "source": [
    "train_df.nunique()"
   ]
  },
  {
   "cell_type": "markdown",
   "metadata": {},
   "source": [
    "### 9. Naive Model"
   ]
  },
  {
   "cell_type": "markdown",
   "metadata": {},
   "source": [
    "Before we do any feature engineering, we will use the features like 'ip', 'app', 'device', 'os' and 'channel' to build a naive model."
   ]
  },
  {
   "cell_type": "code",
   "execution_count": 127,
   "metadata": {},
   "outputs": [],
   "source": [
    "train_naive_df = train_df[['ip', 'app', 'device', 'os', 'channel', 'is_attributed']]\n",
    "\n",
    "X_train_naive, X_test_naive = train_test_split(train_naive_df, test_size=0.3)\n",
    "\n",
    "X_train = X_train_naive.drop(['is_attributed'], axis=1)\n",
    "y_train = X_train_naive['is_attributed']\n",
    "\n",
    "X_test = X_test_naive.drop(['is_attributed'], axis=1)\n",
    "y_test = X_test_naive['is_attributed']"
   ]
  },
  {
   "cell_type": "code",
   "execution_count": 128,
   "metadata": {},
   "outputs": [
    {
     "data": {
      "text/plain": [
       "RandomForestClassifier(bootstrap=True, class_weight=None, criterion='gini',\n",
       "            max_depth=None, max_features='auto', max_leaf_nodes=None,\n",
       "            min_impurity_split=1e-07, min_samples_leaf=1,\n",
       "            min_samples_split=2, min_weight_fraction_leaf=0.0,\n",
       "            n_estimators=10, n_jobs=1, oob_score=False, random_state=None,\n",
       "            verbose=0, warm_start=False)"
      ]
     },
     "execution_count": 128,
     "metadata": {},
     "output_type": "execute_result"
    }
   ],
   "source": [
    "rf = RandomForestClassifier()\n",
    "rf.fit(X_train, y_train)"
   ]
  },
  {
   "cell_type": "code",
   "execution_count": 208,
   "metadata": {},
   "outputs": [],
   "source": [
    "y_pred = rf.predict_proba(X_test)[:, 1]\n",
    "\n",
    "fpr_rf, tpr_rf, _ = roc_curve(y_test, y_pred)"
   ]
  },
  {
   "cell_type": "code",
   "execution_count": 209,
   "metadata": {},
   "outputs": [
    {
     "data": {
      "text/plain": [
       "<matplotlib.figure.Figure at 0x1bae5668>"
      ]
     },
     "metadata": {},
     "output_type": "display_data"
    },
    {
     "data": {
      "image/png": "[encoded data removed]",
      "text/plain": [
       "<matplotlib.figure.Figure at 0x3c988438>"
      ]
     },
     "metadata": {},
     "output_type": "display_data"
    }
   ],
   "source": [
    "# Plot the ROC Curve\n",
    "plt.figure(1)\n",
    "plt.figure(figsize=(8, 5))\n",
    "plt.plot([0, 1], [0, 1], 'k--')\n",
    "plt.plot(fpr_rf, tpr_rf, label='RF')\n",
    "plt.xlabel('False positive rate')\n",
    "plt.ylabel('True positive rate')\n",
    "plt.title('ROC curve')\n",
    "plt.legend(loc='best')\n",
    "plt.show()"
   ]
  },
  {
   "cell_type": "markdown",
   "metadata": {},
   "source": [
    "As we can see from the above plot, the naive model is slightly better than the very basic prediction. We will do feature engineering to build new features and improve the prediction score."
   ]
  },
  {
   "cell_type": "markdown",
   "metadata": {},
   "source": [
    "### 10. EDA"
   ]
  },
  {
   "cell_type": "markdown",
   "metadata": {},
   "source": [
    "Below we will print the unique IP addresses in the 25M records."
   ]
  },
  {
   "cell_type": "code",
   "execution_count": 131,
   "metadata": {},
   "outputs": [
    {
     "name": "stdout",
     "output_type": "stream",
     "text": [
      "91647\n"
     ]
    }
   ],
   "source": [
    "print(len(train_df['ip'].unique()))"
   ]
  },
  {
   "cell_type": "markdown",
   "metadata": {},
   "source": [
    "So, there are a total of 91,647 different IP addresses present in the last 25M records. This means that there are multiple clicks from each of the IP addresses.\n",
    "Below we will see the details of IP addresses from where the top clicks have been generated."
   ]
  },
  {
   "cell_type": "code",
   "execution_count": 132,
   "metadata": {},
   "outputs": [
    {
     "name": "stdout",
     "output_type": "stream",
     "text": [
      "5348      239729\n",
      "5314      212599\n",
      "73516     116306\n",
      "73487     114722\n",
      "112302    105973\n",
      "17149      87190\n",
      "53454      85842\n",
      "105475     70145\n",
      "114276     67907\n",
      "26995      67661\n",
      "111025     63636\n",
      "48282      62887\n",
      "48212      62550\n",
      "48240      60768\n",
      "95766      59503\n",
      "48170      58402\n",
      "123994     56899\n",
      "53964      53944\n",
      "119349     53448\n",
      "53715      53303\n",
      "Name: ip, dtype: int64\n"
     ]
    }
   ],
   "source": [
    "print(pd.value_counts(train_df['ip'])[:20])"
   ]
  },
  {
   "cell_type": "markdown",
   "metadata": {},
   "source": [
    "From the above output we can see that from IP Address `5348` there are around `240k clicks`. Also, the top 20 IP addresses have more than 50k clicks from each one of them. One reasoning could be that many network providers dynamically assign the IP Addresses and it may not be the same user who is holding the IP address."
   ]
  },
  {
   "cell_type": "markdown",
   "metadata": {},
   "source": [
    "Below we will print the unique App ID's in the 25M records."
   ]
  },
  {
   "cell_type": "code",
   "execution_count": 133,
   "metadata": {},
   "outputs": [
    {
     "name": "stdout",
     "output_type": "stream",
     "text": [
      "435\n"
     ]
    }
   ],
   "source": [
    "print(len(train_df['app'].unique()))"
   ]
  },
  {
   "cell_type": "markdown",
   "metadata": {},
   "source": [
    "So, there are a total of 435 different App ID's present in the last 25M records. This means that there will be huge number of clicks from each of the APP ID.\n",
    "Below we will see the details of App ID's from where the top clicks have been generated."
   ]
  },
  {
   "cell_type": "code",
   "execution_count": 134,
   "metadata": {},
   "outputs": [
    {
     "name": "stdout",
     "output_type": "stream",
     "text": [
      "9     3703972\n",
      "3     3127459\n",
      "12    3002951\n",
      "2     2470928\n",
      "18    2426178\n",
      "14    1512745\n",
      "15    1418651\n",
      "1      827672\n",
      "7      642660\n",
      "21     640094\n",
      "8      621456\n",
      "13     560480\n",
      "11     556188\n",
      "26     488765\n",
      "23     360563\n",
      "6      347766\n",
      "20     227173\n",
      "25     206314\n",
      "19     199603\n",
      "28     173848\n",
      "Name: app, dtype: int64\n"
     ]
    }
   ],
   "source": [
    "print(pd.value_counts(train_df['app'])[:20])"
   ]
  },
  {
   "cell_type": "markdown",
   "metadata": {},
   "source": [
    "From the above output we can see that from App ID `9` there are around `3M clicks`. Also, the top 7 App ID's each have more than 1M clicks."
   ]
  },
  {
   "cell_type": "markdown",
   "metadata": {},
   "source": [
    "Below we will print the unique Device details in the 25M records."
   ]
  },
  {
   "cell_type": "code",
   "execution_count": 135,
   "metadata": {},
   "outputs": [
    {
     "name": "stdout",
     "output_type": "stream",
     "text": [
      "1905\n"
     ]
    }
   ],
   "source": [
    "print(len(train_df['device'].unique()))"
   ]
  },
  {
   "cell_type": "markdown",
   "metadata": {},
   "source": [
    "So, there are a total of 1905 different Devices present in the last 25M records. This means that there will be huge number of clicks from each of the Devices.\n",
    "Below we will see the details of Devices from where the top clicks have been generated."
   ]
  },
  {
   "cell_type": "code",
   "execution_count": 136,
   "metadata": {},
   "outputs": [
    {
     "name": "stdout",
     "output_type": "stream",
     "text": [
      "1       22970024\n",
      "2        1659690\n",
      "0         213942\n",
      "3866       90992\n",
      "5          14379\n",
      "59          4093\n",
      "6           2375\n",
      "40          2216\n",
      "16          2007\n",
      "18          1190\n",
      "21          1075\n",
      "33           944\n",
      "30           806\n",
      "114          740\n",
      "3867         720\n",
      "154          681\n",
      "67           660\n",
      "88           622\n",
      "46           618\n",
      "37           612\n",
      "Name: device, dtype: int64\n"
     ]
    }
   ],
   "source": [
    "print(pd.value_counts(train_df['device'])[:20])"
   ]
  },
  {
   "cell_type": "markdown",
   "metadata": {},
   "source": [
    "From the above output we can see that from Device `1` there are around `23M clicks`. Also, the top 5 Devices take the major share. It could be quite possible that the Android Devices are marked for Device ID - 1 as we know that Android has around 86% market share in the Mobile OS market."
   ]
  },
  {
   "cell_type": "markdown",
   "metadata": {},
   "source": [
    "Below we will print the unique OS details in the 25M records."
   ]
  },
  {
   "cell_type": "code",
   "execution_count": 137,
   "metadata": {},
   "outputs": [
    {
     "name": "stdout",
     "output_type": "stream",
     "text": [
      "396\n"
     ]
    }
   ],
   "source": [
    "print(len(train_df['os'].unique()))"
   ]
  },
  {
   "cell_type": "markdown",
   "metadata": {},
   "source": [
    "So, there are a total of 396 different Operating Systems present in the last 25M records. This means that there will be huge number of clicks from each of the OS.\n",
    "Below we will see the details of Operating Systems from where the top clicks have been generated."
   ]
  },
  {
   "cell_type": "code",
   "execution_count": 138,
   "metadata": {},
   "outputs": [
    {
     "name": "stdout",
     "output_type": "stream",
     "text": [
      "19    5730433\n",
      "13    5265758\n",
      "17    1283318\n",
      "18    1169947\n",
      "22    1033891\n",
      "8      690210\n",
      "9      681424\n",
      "10     675574\n",
      "6      669630\n",
      "15     582296\n",
      "25     542723\n",
      "20     534498\n",
      "37     429192\n",
      "16     406703\n",
      "3      406017\n",
      "41     341335\n",
      "14     319331\n",
      "1      293240\n",
      "12     281384\n",
      "27     257671\n",
      "Name: os, dtype: int64\n"
     ]
    }
   ],
   "source": [
    "print(pd.value_counts(train_df['os'])[:20])"
   ]
  },
  {
   "cell_type": "markdown",
   "metadata": {},
   "source": [
    "From the above output we can see that from `OS - 19` there are around `5.7M clicks` followed by `OS - 13` with around `5.2M Clicks`. Also, the top 5 Operating Systems take the major share with around 14M Clicks."
   ]
  },
  {
   "cell_type": "markdown",
   "metadata": {},
   "source": [
    "Below we will print the unique Channel details in the 25M records."
   ]
  },
  {
   "cell_type": "code",
   "execution_count": 139,
   "metadata": {},
   "outputs": [
    {
     "name": "stdout",
     "output_type": "stream",
     "text": [
      "182\n"
     ]
    }
   ],
   "source": [
    "print(len(train_df['channel'].unique()))"
   ]
  },
  {
   "cell_type": "markdown",
   "metadata": {},
   "source": [
    "So, there are a total of 182 different Channels present in the last 25M records. This means that there will be huge number of clicks from each of the Channels.\n",
    "Below we will see the details of Channels from where the top clicks have been generated."
   ]
  },
  {
   "cell_type": "code",
   "execution_count": 140,
   "metadata": {},
   "outputs": [
    {
     "name": "stdout",
     "output_type": "stream",
     "text": [
      "107    1615465\n",
      "477     805882\n",
      "101     789213\n",
      "265     782562\n",
      "259     773682\n",
      "153     694062\n",
      "178     670434\n",
      "232     660304\n",
      "121     637831\n",
      "466     626604\n",
      "127     619638\n",
      "205     599493\n",
      "134     598960\n",
      "145     586425\n",
      "442     573143\n",
      "379     569779\n",
      "128     409851\n",
      "489     384477\n",
      "135     377266\n",
      "439     373897\n",
      "Name: channel, dtype: int64\n"
     ]
    }
   ],
   "source": [
    "print(pd.value_counts(train_df['channel'])[:20])"
   ]
  },
  {
   "cell_type": "markdown",
   "metadata": {},
   "source": [
    "From the above output we can see that from `Channel - 107` there are around `1.6M clicks` followed by `Channel - 477` with around `805k Clicks`. Also, the top 16 Channels have more than 500K Clicks."
   ]
  },
  {
   "cell_type": "code",
   "execution_count": 141,
   "metadata": {},
   "outputs": [
    {
     "data": {
      "image/png": "[encoded data removed]",
      "text/plain": [
       "<matplotlib.figure.Figure at 0x3c9167b8>"
      ]
     },
     "metadata": {},
     "output_type": "display_data"
    }
   ],
   "source": [
    "# Plot the Unique Value Count for each of the Features\n",
    "plt.figure(figsize=(12, 5))\n",
    "cols = ['ip', 'app', 'device', 'os', 'channel']\n",
    "uniques = [len(train_df[col].unique()) for col in cols]\n",
    "ax = sns.barplot(cols, uniques, log=True)\n",
    "ax.set(xlabel='Feature', ylabel='log(Unique Value Count)', title='Unique Value Count for each of the Features From 25M Records')\n",
    "plt.show()"
   ]
  },
  {
   "cell_type": "markdown",
   "metadata": {},
   "source": [
    "### 11. Feature Engineering"
   ]
  },
  {
   "cell_type": "markdown",
   "metadata": {},
   "source": [
    "As the data is spread across just few days, the day, month and year in the `click_time` doesn't add much value. So, we will extract `hour` and `minute` and use them for building our model."
   ]
  },
  {
   "cell_type": "code",
   "execution_count": 174,
   "metadata": {},
   "outputs": [
    {
     "name": "stdout",
     "output_type": "stream",
     "text": [
      "<class 'pandas.core.frame.DataFrame'>\n",
      "RangeIndex: 25000000 entries, 0 to 24999999\n",
      "Data columns (total 8 columns):\n",
      "ip               uint32\n",
      "app              uint16\n",
      "device           uint16\n",
      "os               uint16\n",
      "channel          uint16\n",
      "is_attributed    uint8\n",
      "hour             uint8\n",
      "minute           uint8\n",
      "dtypes: uint16(4), uint32(1), uint8(3)\n",
      "memory usage: 357.6 MB\n",
      "None\n"
     ]
    }
   ],
   "source": [
    "# Extract Hour and Minute from click_time\n",
    "train_df['hour']    = pd.to_datetime(train_df.click_time).dt.hour.astype('uint8')\n",
    "train_df['minute']    = pd.to_datetime(train_df.click_time).dt.minute.astype('uint8')\n",
    "\n",
    "# Drop click_time and attributed_time\n",
    "train_df = train_df.drop(['click_time', 'attributed_time'], axis=1)\n",
    "print(train_df.info())"
   ]
  },
  {
   "cell_type": "code",
   "execution_count": 175,
   "metadata": {},
   "outputs": [
    {
     "name": "stdout",
     "output_type": "stream",
     "text": [
      "grouping by ip-app combination [count]\n",
      "grouping by ip-app-os combination [count]\n",
      "grouping by ip-app-channel combination [count]\n",
      "grouping by ip-app-device combination [count]\n"
     ]
    },
    {
     "data": {
      "text/plain": [
       "112"
      ]
     },
     "execution_count": 175,
     "metadata": {},
     "output_type": "execute_result"
    }
   ],
   "source": [
    "# Use Group By Transformation to create new Features\n",
    "print('grouping by ip-app combination [count]')\n",
    "gp = train_df[['ip', 'app', 'channel']].groupby(by=['ip', 'app'])[['channel']].count().reset_index().rename(index=str, columns={'channel': 'ip_app_count'})\n",
    "train_df = train_df.merge(gp, on=['ip','app'], how='left')\n",
    "del gp\n",
    "gc.collect()\n",
    "\n",
    "print('grouping by ip-app-os combination [count]')\n",
    "gp = train_df[['ip','app', 'os', 'channel']].groupby(by=['ip', 'app', 'os'])[['channel']].count().reset_index().rename(index=str, columns={'channel': 'ip_app_os_count'})\n",
    "train_df = train_df.merge(gp, on=['ip','app', 'os'], how='left')\n",
    "del gp\n",
    "gc.collect()\n",
    "\n",
    "print('grouping by ip-app-channel combination [count]')\n",
    "gp = train_df[['ip','app', 'os', 'channel']].groupby(by=['ip', 'app', 'channel'])[['os']].count().reset_index().rename(index=str, columns={'os': 'ip_app_channel_count'})\n",
    "train_df = train_df.merge(gp, on=['ip','app', 'channel'], how='left')\n",
    "del gp\n",
    "gc.collect()\n",
    "\n",
    "print('grouping by ip-app-device combination [count]')\n",
    "gp = train_df[['ip','app', 'device', 'channel']].groupby(by=['ip', 'app', 'device'])[['channel']].count().reset_index().rename(index=str, columns={'channel': 'ip_app_device_count'})\n",
    "train_df = train_df.merge(gp, on=['ip','app', 'device'], how='left')\n",
    "del gp\n",
    "gc.collect()"
   ]
  },
  {
   "cell_type": "code",
   "execution_count": 176,
   "metadata": {},
   "outputs": [
    {
     "name": "stdout",
     "output_type": "stream",
     "text": [
      "<class 'pandas.core.frame.DataFrame'>\n",
      "Int64Index: 25000000 entries, 0 to 24999999\n",
      "Data columns (total 12 columns):\n",
      "ip                      uint32\n",
      "app                     uint16\n",
      "device                  uint16\n",
      "os                      uint16\n",
      "channel                 uint16\n",
      "is_attributed           uint8\n",
      "hour                    uint8\n",
      "minute                  uint8\n",
      "ip_app_count            int64\n",
      "ip_app_os_count         int64\n",
      "ip_app_channel_count    int64\n",
      "ip_app_device_count     int64\n",
      "dtypes: int64(4), uint16(4), uint32(1), uint8(3)\n",
      "memory usage: 1.3 GB\n",
      "None\n"
     ]
    }
   ],
   "source": [
    "print(train_df.info())"
   ]
  },
  {
   "cell_type": "markdown",
   "metadata": {},
   "source": [
    "### 12. Model Building"
   ]
  },
  {
   "cell_type": "code",
   "execution_count": 191,
   "metadata": {},
   "outputs": [],
   "source": [
    "# Do the Train and Validation Split\n",
    "VALIDATION_SIZE=2500000 #2.5M\n",
    "TRAIN_SIZE = 25000000 #25M\n",
    "\n",
    "train = train_df[:(TRAIN_SIZE-VALIDATION_SIZE)]\n",
    "val = train_df.iloc[(TRAIN_SIZE-VALIDATION_SIZE):TRAIN_SIZE]\n",
    "\n",
    "X_train = train.drop(['is_attributed'], axis=1)\n",
    "y_train = train['is_attributed']\n",
    "\n",
    "X_val = val.drop(['is_attributed'], axis=1)\n",
    "y_val = val['is_attributed']"
   ]
  },
  {
   "cell_type": "code",
   "execution_count": 192,
   "metadata": {},
   "outputs": [
    {
     "name": "stdout",
     "output_type": "stream",
     "text": [
      "<class 'pandas.core.frame.DataFrame'>\n",
      "Int64Index: 22500000 entries, 0 to 22499999\n",
      "Data columns (total 11 columns):\n",
      "ip                      uint32\n",
      "app                     uint16\n",
      "device                  uint16\n",
      "os                      uint16\n",
      "channel                 uint16\n",
      "hour                    uint8\n",
      "minute                  uint8\n",
      "ip_app_count            int64\n",
      "ip_app_os_count         int64\n",
      "ip_app_channel_count    int64\n",
      "ip_app_device_count     int64\n",
      "dtypes: int64(4), uint16(4), uint32(1), uint8(2)\n",
      "memory usage: 1.1 GB\n",
      "None\n"
     ]
    }
   ],
   "source": [
    "print(X_train.info())"
   ]
  },
  {
   "cell_type": "code",
   "execution_count": 193,
   "metadata": {},
   "outputs": [
    {
     "name": "stdout",
     "output_type": "stream",
     "text": [
      "<class 'pandas.core.frame.DataFrame'>\n",
      "Int64Index: 2500000 entries, 22500000 to 24999999\n",
      "Data columns (total 11 columns):\n",
      "ip                      uint32\n",
      "app                     uint16\n",
      "device                  uint16\n",
      "os                      uint16\n",
      "channel                 uint16\n",
      "hour                    uint8\n",
      "minute                  uint8\n",
      "ip_app_count            int64\n",
      "ip_app_os_count         int64\n",
      "ip_app_channel_count    int64\n",
      "ip_app_device_count     int64\n",
      "dtypes: int64(4), uint16(4), uint32(1), uint8(2)\n",
      "memory usage: 128.7 MB\n",
      "None\n"
     ]
    }
   ],
   "source": [
    "print(X_val.info())"
   ]
  },
  {
   "cell_type": "code",
   "execution_count": 194,
   "metadata": {},
   "outputs": [],
   "source": [
    "predictors = ['app', 'device', 'os', 'channel', 'hour', 'minute', 'ip_app_count', 'ip_app_os_count', 'ip_app_channel_count', 'ip_app_device_count']\n",
    "categorical = ['app', 'device', 'os', 'channel', 'hour', 'minute']"
   ]
  },
  {
   "cell_type": "code",
   "execution_count": 195,
   "metadata": {},
   "outputs": [],
   "source": [
    "# Set lgb Parameters\n",
    "metrics = 'auc'\n",
    "lgb_params = {\n",
    "        'boosting_type': 'gbdt',\n",
    "        'objective': 'binary',\n",
    "        'metric':metrics,\n",
    "        'learning_rate': 0.05,\n",
    "        'num_leaves': 7,  # we should let it be smaller than 2^(max_depth)\n",
    "        'max_depth': 4,  # -1 means no limit\n",
    "        'min_child_samples': 100,  # Minimum number of data need in a child(min_data_in_leaf)\n",
    "        'max_bin': 100,  # Number of bucketed bin for feature values\n",
    "        'subsample': 0.7,  # Subsample ratio of the training instance.\n",
    "        'subsample_freq': 1,  # frequence of subsample, <=0 means no enable\n",
    "        'colsample_bytree': 0.7,  # Subsample ratio of columns when constructing each tree.\n",
    "        'min_child_weight': 0,  # Minimum sum of instance weight(hessian) needed in a child(leaf)\n",
    "        'min_split_gain': 0,  # lambda_l1, lambda_l2 and min_gain_to_split to regularization\n",
    "        'nthread': 4,\n",
    "        'verbose': 0,\n",
    "        'scale_pos_weight':99.7, # because training data is extremely unbalanced \n",
    "        'metric':metrics\n",
    "}"
   ]
  },
  {
   "cell_type": "code",
   "execution_count": 210,
   "metadata": {},
   "outputs": [
    {
     "name": "stderr",
     "output_type": "stream",
     "text": [
      "C:\\ProgramData\\Anaconda3\\lib\\site-packages\\lightgbm\\basic.py:1036: UserWarning: Using categorical_feature in Dataset.\n",
      "  warnings.warn('Using categorical_feature in Dataset.')\n",
      "C:\\ProgramData\\Anaconda3\\lib\\site-packages\\lightgbm\\basic.py:681: UserWarning: categorical_feature in param dict is overrided.\n",
      "  warnings.warn('categorical_feature in param dict is overrided.')\n"
     ]
    },
    {
     "name": "stdout",
     "output_type": "stream",
     "text": [
      "Training until validation scores don't improve for 20 rounds.\n",
      "[10]\ttrain's auc: 0.956977\tvalid's auc: 0.976404\n",
      "[20]\ttrain's auc: 0.958553\tvalid's auc: 0.976787\n",
      "[30]\ttrain's auc: 0.959691\tvalid's auc: 0.977425\n",
      "[40]\ttrain's auc: 0.9631\tvalid's auc: 0.979331\n",
      "[50]\ttrain's auc: 0.965363\tvalid's auc: 0.980409\n",
      "[60]\ttrain's auc: 0.966618\tvalid's auc: 0.980856\n",
      "[70]\ttrain's auc: 0.967496\tvalid's auc: 0.980978\n",
      "[80]\ttrain's auc: 0.96857\tvalid's auc: 0.981246\n",
      "[90]\ttrain's auc: 0.969054\tvalid's auc: 0.981702\n",
      "[100]\ttrain's auc: 0.969637\tvalid's auc: 0.981964\n",
      "[110]\ttrain's auc: 0.970109\tvalid's auc: 0.982243\n",
      "[120]\ttrain's auc: 0.970559\tvalid's auc: 0.982519\n",
      "[130]\ttrain's auc: 0.970958\tvalid's auc: 0.982658\n",
      "[140]\ttrain's auc: 0.971248\tvalid's auc: 0.982849\n",
      "[150]\ttrain's auc: 0.971496\tvalid's auc: 0.982954\n",
      "[160]\ttrain's auc: 0.971779\tvalid's auc: 0.983146\n",
      "[170]\ttrain's auc: 0.971979\tvalid's auc: 0.983254\n",
      "[180]\ttrain's auc: 0.972284\tvalid's auc: 0.983415\n",
      "[190]\ttrain's auc: 0.972527\tvalid's auc: 0.983613\n",
      "[200]\ttrain's auc: 0.972797\tvalid's auc: 0.983752\n",
      "Did not meet early stopping. Best iteration is:\n",
      "[200]\ttrain's auc: 0.972797\tvalid's auc: 0.983752\n"
     ]
    }
   ],
   "source": [
    "# Build lgb Model\n",
    "xgtrain = lgb.Dataset(X_train[predictors].values, label=y_train, feature_name=predictors, categorical_feature=categorical)\n",
    "xgvalid = lgb.Dataset(X_val[predictors].values, label=y_val, feature_name=predictors, categorical_feature=categorical)\n",
    "\n",
    "evals_results = {}\n",
    "\n",
    "model_lgb     = lgb.train(lgb_params, xgtrain, valid_sets=[xgtrain, xgvalid], \n",
    "                          valid_names=['train','valid'], \n",
    "                           evals_result=evals_results, \n",
    "                           num_boost_round=200,\n",
    "                           early_stopping_rounds=20,\n",
    "                           verbose_eval=10, feval=None)"
   ]
  },
  {
   "cell_type": "code",
   "execution_count": 197,
   "metadata": {},
   "outputs": [
    {
     "name": "stdout",
     "output_type": "stream",
     "text": [
      "Features Importance\n",
      "                feature       gain  split\n",
      "0                   app  69.448162    310\n",
      "6          ip_app_count  11.752486     95\n",
      "3               channel  11.718092    400\n",
      "9   ip_app_device_count   3.834624     34\n",
      "2                    os   2.067944    186\n",
      "1                device   0.584978     62\n",
      "7       ip_app_os_count   0.399658     48\n",
      "4                  hour   0.067332     23\n",
      "5                minute   0.064405     30\n",
      "8  ip_app_channel_count   0.062320     12\n"
     ]
    },
    {
     "data": {
      "text/plain": [
       "<matplotlib.figure.Figure at 0x3c549f98>"
      ]
     },
     "metadata": {},
     "output_type": "display_data"
    },
    {
     "data": {
      "image/png": "[encoded data removed]",
      "text/plain": [
       "<matplotlib.figure.Figure at 0x3c8c17f0>"
      ]
     },
     "metadata": {},
     "output_type": "display_data"
    }
   ],
   "source": [
    "# Show Features Importance\n",
    "print(\"Features Importance\")\n",
    "gain = model_lgb.feature_importance('gain')\n",
    "ft = pd.DataFrame({'feature':model_lgb.feature_name(), \n",
    "                   'split':model_lgb.feature_importance('split'), \n",
    "                   'gain':100 * gain / gain.sum()}).sort_values('gain', ascending=False)\n",
    "print(ft.head(10))\n",
    "\n",
    "plt.figure()\n",
    "ft = ft.sort_values('gain', ascending=True)\n",
    "ft[['feature','gain']].head(50).plot(kind='barh', x='feature', y='gain', legend=False, figsize=(10, 8))\n",
    "plt.show()"
   ]
  },
  {
   "cell_type": "code",
   "execution_count": 201,
   "metadata": {},
   "outputs": [
    {
     "data": {
      "text/plain": [
       "<matplotlib.figure.Figure at 0x3c5717f0>"
      ]
     },
     "metadata": {},
     "output_type": "display_data"
    },
    {
     "data": {
      "image/png": "[encoded data removed]",
      "text/plain": [
       "<matplotlib.figure.Figure at 0x3c534860>"
      ]
     },
     "metadata": {},
     "output_type": "display_data"
    }
   ],
   "source": [
    "fpr_rf, tpr_rf, _ = roc_curve(y_val, model_lgb.predict(X_val[predictors]))\n",
    "\n",
    "# Plot the ROC Curve\n",
    "plt.figure(1)\n",
    "plt.figure(figsize=(12, 6))\n",
    "plt.plot([0, 1], [0, 1], 'k--')\n",
    "plt.plot(fpr_rf, tpr_rf, label='LGBM')\n",
    "plt.xlabel('False positive rate')\n",
    "plt.ylabel('True positive rate')\n",
    "plt.title('ROC curve')\n",
    "plt.legend(loc='best')\n",
    "plt.show()"
   ]
  },
  {
   "cell_type": "markdown",
   "metadata": {},
   "source": [
    "### 13. Process Test Data"
   ]
  },
  {
   "cell_type": "code",
   "execution_count": 202,
   "metadata": {},
   "outputs": [
    {
     "name": "stdout",
     "output_type": "stream",
     "text": [
      "<class 'pandas.core.frame.DataFrame'>\n",
      "RangeIndex: 18790469 entries, 0 to 18790468\n",
      "Data columns (total 8 columns):\n",
      "click_id    uint32\n",
      "ip          uint32\n",
      "app         uint16\n",
      "device      uint16\n",
      "os          uint16\n",
      "channel     uint16\n",
      "hour        uint8\n",
      "minute      uint8\n",
      "dtypes: uint16(4), uint32(2), uint8(2)\n",
      "memory usage: 322.6 MB\n",
      "None\n"
     ]
    }
   ],
   "source": [
    "# Extract Hour and Minute from click_time\n",
    "test_df['hour']    = pd.to_datetime(test_df.click_time).dt.hour.astype('uint8')\n",
    "test_df['minute']    = pd.to_datetime(test_df.click_time).dt.minute.astype('uint8')\n",
    "\n",
    "# Drop click_time\n",
    "test_df = test_df.drop(['click_time'], axis=1)\n",
    "print(test_df.info())"
   ]
  },
  {
   "cell_type": "code",
   "execution_count": 203,
   "metadata": {},
   "outputs": [
    {
     "name": "stdout",
     "output_type": "stream",
     "text": [
      "grouping by ip-app combination [count]\n",
      "grouping by ip-app-os combination [count]\n",
      "grouping by ip-app-channel combination [count]\n",
      "grouping by ip-app-device combination [count]\n"
     ]
    },
    {
     "data": {
      "text/plain": [
       "112"
      ]
     },
     "execution_count": 203,
     "metadata": {},
     "output_type": "execute_result"
    }
   ],
   "source": [
    "# Use Group By Transformation to create new Features\n",
    "print('grouping by ip-app combination [count]')\n",
    "gp = test_df[['ip', 'app', 'channel']].groupby(by=['ip', 'app'])[['channel']].count().reset_index().rename(index=str, columns={'channel': 'ip_app_count'})\n",
    "test_df = test_df.merge(gp, on=['ip','app'], how='left')\n",
    "del gp\n",
    "gc.collect()\n",
    "\n",
    "print('grouping by ip-app-os combination [count]')\n",
    "gp = test_df[['ip','app', 'os', 'channel']].groupby(by=['ip', 'app', 'os'])[['channel']].count().reset_index().rename(index=str, columns={'channel': 'ip_app_os_count'})\n",
    "test_df = test_df.merge(gp, on=['ip','app', 'os'], how='left')\n",
    "del gp\n",
    "gc.collect()\n",
    "\n",
    "print('grouping by ip-app-channel combination [count]')\n",
    "gp = test_df[['ip','app', 'os', 'channel']].groupby(by=['ip', 'app', 'channel'])[['os']].count().reset_index().rename(index=str, columns={'os': 'ip_app_channel_count'})\n",
    "test_df = test_df.merge(gp, on=['ip','app', 'channel'], how='left')\n",
    "del gp\n",
    "gc.collect()\n",
    "\n",
    "print('grouping by ip-app-device combination [count]')\n",
    "gp = test_df[['ip','app', 'device', 'channel']].groupby(by=['ip', 'app', 'device'])[['channel']].count().reset_index().rename(index=str, columns={'channel': 'ip_app_device_count'})\n",
    "test_df = test_df.merge(gp, on=['ip','app', 'device'], how='left')\n",
    "del gp\n",
    "gc.collect()"
   ]
  },
  {
   "cell_type": "code",
   "execution_count": 204,
   "metadata": {},
   "outputs": [
    {
     "name": "stdout",
     "output_type": "stream",
     "text": [
      "<class 'pandas.core.frame.DataFrame'>\n",
      "Int64Index: 18790469 entries, 0 to 18790468\n",
      "Data columns (total 12 columns):\n",
      "click_id                uint32\n",
      "ip                      uint32\n",
      "app                     uint16\n",
      "device                  uint16\n",
      "os                      uint16\n",
      "channel                 uint16\n",
      "hour                    uint8\n",
      "minute                  uint8\n",
      "ip_app_count            int64\n",
      "ip_app_os_count         int64\n",
      "ip_app_channel_count    int64\n",
      "ip_app_device_count     int64\n",
      "dtypes: int64(4), uint16(4), uint32(2), uint8(2)\n",
      "memory usage: 1.0 GB\n",
      "None\n"
     ]
    }
   ],
   "source": [
    "print(test_df.info())"
   ]
  },
  {
   "cell_type": "code",
   "execution_count": 205,
   "metadata": {},
   "outputs": [
    {
     "name": "stdout",
     "output_type": "stream",
     "text": [
      "Sub dimension (18790469, 1)\n"
     ]
    }
   ],
   "source": [
    "# Prepare for Submission\n",
    "sub = pd.DataFrame()\n",
    "sub['click_id'] = test_df['click_id']\n",
    "print(\"Sub dimension \"    + str(sub.shape))"
   ]
  },
  {
   "cell_type": "code",
   "execution_count": 206,
   "metadata": {},
   "outputs": [
    {
     "name": "stdout",
     "output_type": "stream",
     "text": [
      "Predicting...\n",
      "Writing...\n",
      "Done...\n"
     ]
    }
   ],
   "source": [
    "print(\"Predicting...\")\n",
    "sub['is_attributed'] = model_lgb.predict(test_df[predictors])\n",
    "print(\"Writing...\")\n",
    "sub.to_csv('submission.csv.gz',index=False,compression='gzip')\n",
    "print(\"Done...\")"
   ]
  },
  {
   "cell_type": "markdown",
   "metadata": {},
   "source": [
    "### References"
   ]
  },
  {
   "cell_type": "markdown",
   "metadata": {},
   "source": [
    "- https://www.kaggle.com/c/talkingdata-adtracking-fraud-detection\n",
    "- https://www.kaggle.com/c/talkingdata-adtracking-fraud-detection/kernels\n",
    "- https://www.kaggle.com/c/talkingdata-adtracking-fraud-detection/discussion\n",
    "- http://scikit-learn.org/stable/modules/generated/sklearn.metrics.roc_auc_score.html\n",
    "- https://lightgbm.readthedocs.io/en/latest/\n",
    "- http://www.jmlr.org/papers/volume15/oentaryo14a/oentaryo14a.pdf"
   ]
  }
 ],
 "metadata": {
  "kernelspec": {
   "display_name": "Python 3",
   "language": "python",
   "name": "python3"
  },
  "language_info": {
   "codemirror_mode": {
    "name": "ipython",
    "version": 3
   },
   "file_extension": ".py",
   "mimetype": "text/x-python",
   "name": "python",
   "nbconvert_exporter": "python",
   "pygments_lexer": "ipython3",
   "version": "3.6.0"
  }
 },
 "nbformat": 4,
 "nbformat_minor": 2
}
