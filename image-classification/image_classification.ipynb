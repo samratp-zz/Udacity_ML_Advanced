{
 "cells": [
  {
   "cell_type": "markdown",
   "metadata": {
    "collapsed": true
   },
   "source": [
    "# Image Classification\n",
    "In this project, you'll classify images from the [CIFAR-10 dataset](https://www.cs.toronto.edu/~kriz/cifar.html).  The dataset consists of airplanes, dogs, cats, and other objects. You'll preprocess the images, then train a convolutional neural network on all the samples. The images need to be normalized and the labels need to be one-hot encoded.  You'll get to apply what you learned and build a convolutional, max pooling, dropout, and fully connected layers.  At the end, you'll get to see your neural network's predictions on the sample images.\n",
    "## Get the Data\n",
    "Run the following cell to download the [CIFAR-10 dataset for python](https://www.cs.toronto.edu/~kriz/cifar-10-python.tar.gz)."
   ]
  },
  {
   "cell_type": "code",
   "execution_count": 1,
   "metadata": {},
   "outputs": [
    {
     "name": "stdout",
     "output_type": "stream",
     "text": [
      "All files found!\n"
     ]
    }
   ],
   "source": [
    "\"\"\"\n",
    "DON'T MODIFY ANYTHING IN THIS CELL THAT IS BELOW THIS LINE\n",
    "\"\"\"\n",
    "from urllib.request import urlretrieve\n",
    "from os.path import isfile, isdir\n",
    "from tqdm import tqdm\n",
    "import problem_unittests as tests\n",
    "import tarfile\n",
    "import matplotlib.pyplot as plt\n",
    "from sklearn.preprocessing import OneHotEncoder\n",
    "\n",
    "cifar10_dataset_folder_path = 'cifar-10-batches-py'\n",
    "\n",
    "class DLProgress(tqdm):\n",
    "    last_block = 0\n",
    "\n",
    "    def hook(self, block_num=1, block_size=1, total_size=None):\n",
    "        self.total = total_size\n",
    "        self.update((block_num - self.last_block) * block_size)\n",
    "        self.last_block = block_num\n",
    "\n",
    "if not isfile('cifar-10-python.tar.gz'):\n",
    "    with DLProgress(unit='B', unit_scale=True, miniters=1, desc='CIFAR-10 Dataset') as pbar:\n",
    "        urlretrieve(\n",
    "            'https://www.cs.toronto.edu/~kriz/cifar-10-python.tar.gz',\n",
    "            'cifar-10-python.tar.gz',\n",
    "            pbar.hook)\n",
    "\n",
    "if not isdir(cifar10_dataset_folder_path):\n",
    "    with tarfile.open('cifar-10-python.tar.gz') as tar:\n",
    "        tar.extractall()\n",
    "        tar.close()\n",
    "\n",
    "\n",
    "tests.test_folder_path(cifar10_dataset_folder_path)"
   ]
  },
  {
   "cell_type": "markdown",
   "metadata": {},
   "source": [
    "## Explore the Data\n",
    "The dataset is broken into batches to prevent your machine from running out of memory.  The CIFAR-10 dataset consists of 5 batches, named `data_batch_1`, `data_batch_2`, etc.. Each batch contains the labels and images that are one of the following:\n",
    "* airplane\n",
    "* automobile\n",
    "* bird\n",
    "* cat\n",
    "* deer\n",
    "* dog\n",
    "* frog\n",
    "* horse\n",
    "* ship\n",
    "* truck\n",
    "\n",
    "Understanding a dataset is part of making predictions on the data.  Play around with the code cell below by changing the `batch_id` and `sample_id`. The `batch_id` is the id for a batch (1-5). The `sample_id` is the id for a image and label pair in the batch.\n",
    "\n",
    "Ask yourself \"What are all possible labels?\", \"What is the range of values for the image data?\", \"Are the labels in order or random?\".  Answers to questions like these will help you preprocess the data and end up with better predictions."
   ]
  },
  {
   "cell_type": "code",
   "execution_count": 2,
   "metadata": {},
   "outputs": [
    {
     "name": "stdout",
     "output_type": "stream",
     "text": [
      "\n",
      "Stats of batch 5:\n",
      "Samples: 10000\n",
      "Label Counts: {0: 1014, 1: 1014, 2: 952, 3: 1016, 4: 997, 5: 1025, 6: 980, 7: 977, 8: 1003, 9: 1022}\n",
      "First 20 Labels: [1, 8, 5, 1, 5, 7, 4, 3, 8, 2, 7, 2, 0, 1, 5, 9, 6, 2, 0, 8]\n",
      "\n",
      "Example of Image 5:\n",
      "Image - Min Value: 1 Max Value: 255\n",
      "Image - Shape: (32, 32, 3)\n",
      "Label - Label Id: 7 Name: horse\n"
     ]
    },
    {
     "data": {
      "image/png": "[encoded data removed]",
      "text/plain": [
       "<matplotlib.figure.Figure at 0xdb6fe80>"
      ]
     },
     "metadata": {
      "image/png": {
       "height": 250,
       "width": 253
      }
     },
     "output_type": "display_data"
    }
   ],
   "source": [
    "%matplotlib inline\n",
    "%config InlineBackend.figure_format = 'retina'\n",
    "\n",
    "import helper\n",
    "import numpy as np\n",
    "\n",
    "# Explore the dataset\n",
    "batch_id = 5\n",
    "sample_id = 5\n",
    "helper.display_stats(cifar10_dataset_folder_path, batch_id, sample_id)"
   ]
  },
  {
   "cell_type": "markdown",
   "metadata": {},
   "source": [
    "## Implement Preprocess Functions\n",
    "### Normalize\n",
    "In the cell below, implement the `normalize` function to take in image data, `x`, and return it as a normalized Numpy array. The values should be in the range of 0 to 1, inclusive.  The return object should be the same shape as `x`."
   ]
  },
  {
   "cell_type": "code",
   "execution_count": 3,
   "metadata": {},
   "outputs": [
    {
     "name": "stdout",
     "output_type": "stream",
     "text": [
      "Tests Passed\n"
     ]
    }
   ],
   "source": [
    "def normalize(x):\n",
    "    \"\"\"\n",
    "    Normalize a list of sample image data in the range of 0 to 1\n",
    "    : x: List of image data.  The image shape is (32, 32, 3)\n",
    "    : return: Numpy array of normalize data\n",
    "    \"\"\"\n",
    "    a_min = np.amin(x)\n",
    "    a_max = np.amax(x)\n",
    "    norm = np.array((x-a_min)/(a_max-a_min))\n",
    "    return norm\n",
    "\n",
    "\"\"\"\n",
    "DON'T MODIFY ANYTHING IN THIS CELL THAT IS BELOW THIS LINE\n",
    "\"\"\"\n",
    "tests.test_normalize(normalize)"
   ]
  },
  {
   "cell_type": "markdown",
   "metadata": {},
   "source": [
    "### One-hot encode\n",
    "Just like the previous code cell, you'll be implementing a function for preprocessing.  This time, you'll implement the `one_hot_encode` function. The input, `x`, are a list of labels.  Implement the function to return the list of labels as One-Hot encoded Numpy array.  The possible values for labels are 0 to 9. The one-hot encoding function should return the same encoding for each value between each call to `one_hot_encode`.  Make sure to save the map of encodings outside the function.\n",
    "\n",
    "**Hint:**\n",
    "\n",
    "Look into LabelBinarizer in the preprocessing module of sklearn."
   ]
  },
  {
   "cell_type": "code",
   "execution_count": 4,
   "metadata": {},
   "outputs": [
    {
     "name": "stdout",
     "output_type": "stream",
     "text": [
      "Tests Passed\n"
     ]
    }
   ],
   "source": [
    "N_VALUES = 10\n",
    "\n",
    "def one_hot_encode(x):\n",
    "    \"\"\"\n",
    "    One hot encode a list of sample labels. Return a one-hot encoded vector for each label.\n",
    "    : x: List of sample Labels\n",
    "    : return: Numpy array of one-hot encoded labels\n",
    "    \"\"\"\n",
    "    # TODO: Implement Function\n",
    "    #print(\"Labels => {}\".format(x))\n",
    "    encoder = OneHotEncoder(n_values=N_VALUES)\n",
    "    encoded_labels = encoder.fit_transform(np.array(x).reshape(-1, 1)).toarray()\n",
    "    #print(\"Encoded Labels => {}\".format(encoded_labels))\n",
    "    return encoded_labels\n",
    "\n",
    "\"\"\"\n",
    "DON'T MODIFY ANYTHING IN THIS CELL THAT IS BELOW THIS LINE\n",
    "\"\"\"\n",
    "tests.test_one_hot_encode(one_hot_encode)"
   ]
  },
  {
   "cell_type": "markdown",
   "metadata": {},
   "source": [
    "### Randomize Data\n",
    "As you saw from exploring the data above, the order of the samples are randomized.  It doesn't hurt to randomize it again, but you don't need to for this dataset."
   ]
  },
  {
   "cell_type": "markdown",
   "metadata": {},
   "source": [
    "## Preprocess all the data and save it\n",
    "Running the code cell below will preprocess all the CIFAR-10 data and save it to file. The code below also uses 10% of the training data for validation."
   ]
  },
  {
   "cell_type": "code",
   "execution_count": 5,
   "metadata": {},
   "outputs": [],
   "source": [
    "\"\"\"\n",
    "DON'T MODIFY ANYTHING IN THIS CELL\n",
    "\"\"\"\n",
    "# Preprocess Training, Validation, and Testing Data\n",
    "helper.preprocess_and_save_data(cifar10_dataset_folder_path, normalize, one_hot_encode)"
   ]
  },
  {
   "cell_type": "markdown",
   "metadata": {},
   "source": [
    "# Check Point\n",
    "This is your first checkpoint.  If you ever decide to come back to this notebook or have to restart the notebook, you can start from here.  The preprocessed data has been saved to disk."
   ]
  },
  {
   "cell_type": "code",
   "execution_count": 6,
   "metadata": {},
   "outputs": [],
   "source": [
    "\"\"\"\n",
    "DON'T MODIFY ANYTHING IN THIS CELL\n",
    "\"\"\"\n",
    "import pickle\n",
    "import problem_unittests as tests\n",
    "import helper\n",
    "\n",
    "# Load the Preprocessed Validation data\n",
    "valid_features, valid_labels = pickle.load(open('preprocess_validation.p', mode='rb'))"
   ]
  },
  {
   "cell_type": "markdown",
   "metadata": {},
   "source": [
    "## Build the network\n",
    "For the neural network, you'll build each layer into a function.  Most of the code you've seen has been outside of functions. To test your code more thoroughly, we require that you put each layer in a function.  This allows us to give you better feedback and test for simple mistakes using our unittests before you submit your project.\n",
    "\n",
    ">**Note:** If you're finding it hard to dedicate enough time for this course each week, we've provided a small shortcut to this part of the project. In the next couple of problems, you'll have the option to use classes from the [TensorFlow Layers](https://www.tensorflow.org/api_docs/python/tf/layers) or [TensorFlow Layers (contrib)](https://www.tensorflow.org/api_guides/python/contrib.layers) packages to build each layer, except the layers you build in the \"Convolutional and Max Pooling Layer\" section.  TF Layers is similar to Keras's and TFLearn's abstraction to layers, so it's easy to pickup.\n",
    "\n",
    ">However, if you would like to get the most out of this course, try to solve all the problems _without_ using anything from the TF Layers packages. You **can** still use classes from other packages that happen to have the same name as ones you find in TF Layers! For example, instead of using the TF Layers version of the `conv2d` class, [tf.layers.conv2d](https://www.tensorflow.org/api_docs/python/tf/layers/conv2d), you would want to use the TF Neural Network version of `conv2d`, [tf.nn.conv2d](https://www.tensorflow.org/api_docs/python/tf/nn/conv2d). \n",
    "\n",
    "Let's begin!\n",
    "\n",
    "### Input\n",
    "The neural network needs to read the image data, one-hot encoded labels, and dropout keep probability. Implement the following functions\n",
    "* Implement `neural_net_image_input`\n",
    " * Return a [TF Placeholder](https://www.tensorflow.org/api_docs/python/tf/placeholder)\n",
    " * Set the shape using `image_shape` with batch size set to `None`.\n",
    " * Name the TensorFlow placeholder \"x\" using the TensorFlow `name` parameter in the [TF Placeholder](https://www.tensorflow.org/api_docs/python/tf/placeholder).\n",
    "* Implement `neural_net_label_input`\n",
    " * Return a [TF Placeholder](https://www.tensorflow.org/api_docs/python/tf/placeholder)\n",
    " * Set the shape using `n_classes` with batch size set to `None`.\n",
    " * Name the TensorFlow placeholder \"y\" using the TensorFlow `name` parameter in the [TF Placeholder](https://www.tensorflow.org/api_docs/python/tf/placeholder).\n",
    "* Implement `neural_net_keep_prob_input`\n",
    " * Return a [TF Placeholder](https://www.tensorflow.org/api_docs/python/tf/placeholder) for dropout keep probability.\n",
    " * Name the TensorFlow placeholder \"keep_prob\" using the TensorFlow `name` parameter in the [TF Placeholder](https://www.tensorflow.org/api_docs/python/tf/placeholder).\n",
    "\n",
    "These names will be used at the end of the project to load your saved model.\n",
    "\n",
    "Note: `None` for shapes in TensorFlow allow for a dynamic size."
   ]
  },
  {
   "cell_type": "code",
   "execution_count": 7,
   "metadata": {},
   "outputs": [
    {
     "name": "stdout",
     "output_type": "stream",
     "text": [
      "Image Input Tests Passed.\n",
      "Label Input Tests Passed.\n",
      "Keep Prob Tests Passed.\n"
     ]
    }
   ],
   "source": [
    "import tensorflow as tf\n",
    "\n",
    "def neural_net_image_input(image_shape):\n",
    "    \"\"\"\n",
    "    Return a Tensor for a batch of image input\n",
    "    : image_shape: Shape of the images\n",
    "    : return: Tensor for image input.\n",
    "    \"\"\"\n",
    "    return tf.placeholder(tf.float32, [None, image_shape[0], image_shape[1], image_shape[2]], name='x')\n",
    "\n",
    "\n",
    "def neural_net_label_input(n_classes):\n",
    "    \"\"\"\n",
    "    Return a Tensor for a batch of label input\n",
    "    : n_classes: Number of classes\n",
    "    : return: Tensor for label input.\n",
    "    \"\"\"\n",
    "    return tf.placeholder(tf.float32, shape=[None, n_classes], name='y')\n",
    "\n",
    "\n",
    "def neural_net_keep_prob_input():\n",
    "    \"\"\"\n",
    "    Return a Tensor for keep probability\n",
    "    : return: Tensor for keep probability.\n",
    "    \"\"\"\n",
    "    return tf.placeholder(tf.float32, name='keep_prob')\n",
    "\n",
    "\n",
    "\"\"\"\n",
    "DON'T MODIFY ANYTHING IN THIS CELL THAT IS BELOW THIS LINE\n",
    "\"\"\"\n",
    "tf.reset_default_graph()\n",
    "tests.test_nn_image_inputs(neural_net_image_input)\n",
    "tests.test_nn_label_inputs(neural_net_label_input)\n",
    "tests.test_nn_keep_prob_inputs(neural_net_keep_prob_input)"
   ]
  },
  {
   "cell_type": "markdown",
   "metadata": {},
   "source": [
    "### Convolution and Max Pooling Layer\n",
    "Convolution layers have a lot of success with images. For this code cell, you should implement the function `conv2d_maxpool` to apply convolution then max pooling:\n",
    "* Create the weight and bias using `conv_ksize`, `conv_num_outputs` and the shape of `x_tensor`.\n",
    "* Apply a convolution to `x_tensor` using weight and `conv_strides`.\n",
    " * We recommend you use same padding, but you're welcome to use any padding.\n",
    "* Add bias\n",
    "* Add a nonlinear activation to the convolution.\n",
    "* Apply Max Pooling using `pool_ksize` and `pool_strides`.\n",
    " * We recommend you use same padding, but you're welcome to use any padding.\n",
    "\n",
    "**Note:** You **can't** use [TensorFlow Layers](https://www.tensorflow.org/api_docs/python/tf/layers) or [TensorFlow Layers (contrib)](https://www.tensorflow.org/api_guides/python/contrib.layers) for **this** layer, but you can still use TensorFlow's [Neural Network](https://www.tensorflow.org/api_docs/python/tf/nn) package. You may still use the shortcut option for all the **other** layers.\n",
    "\n",
    "** Hint: **\n",
    "\n",
    "When unpacking values as an argument in Python, look into the [unpacking](https://docs.python.org/3/tutorial/controlflow.html#unpacking-argument-lists) operator. "
   ]
  },
  {
   "cell_type": "code",
   "execution_count": 8,
   "metadata": {},
   "outputs": [
    {
     "name": "stdout",
     "output_type": "stream",
     "text": [
      "Tests Passed\n"
     ]
    }
   ],
   "source": [
    "def conv2d_maxpool(x_tensor, conv_num_outputs, conv_ksize, conv_strides, pool_ksize, pool_strides):\n",
    "    \"\"\"\n",
    "    Apply convolution then max pooling to x_tensor\n",
    "    :param x_tensor: TensorFlow Tensor\n",
    "    :param conv_num_outputs: Number of outputs for the convolutional layer\n",
    "    :param conv_ksize: kernal size 2-D Tuple for the convolutional layer\n",
    "    :param conv_strides: Stride 2-D Tuple for convolution\n",
    "    :param pool_ksize: kernal size 2-D Tuple for pool\n",
    "    :param pool_strides: Stride 2-D Tuple for pool\n",
    "    : return: A tensor that represents convolution and max pooling of x_tensor\n",
    "    \"\"\"\n",
    "    weight = tf.Variable(tf.random_normal([conv_ksize[0], conv_ksize[1],\n",
    "                                           x_tensor.get_shape().as_list()[-1], conv_num_outputs], stddev=.05))\n",
    "    bias   = tf.Variable(tf.zeros(conv_num_outputs))\n",
    "\n",
    "    conv2d_maxpool_tensor = tf.nn.conv2d(x_tensor, weight, strides=[1, conv_strides[0], conv_strides[1], 1], padding='SAME')\n",
    "    conv2d_maxpool_tensor = tf.nn.bias_add(conv2d_maxpool_tensor, bias)\n",
    "    conv2d_maxpool_tensor = tf.nn.relu(conv2d_maxpool_tensor)\n",
    "    conv2d_maxpool_tensor = tf.nn.max_pool(conv2d_maxpool_tensor, ksize=[1, pool_ksize[0], pool_ksize[1], 1],\n",
    "                                           strides=[1, pool_strides[0], pool_strides[1], 1], padding='SAME')\n",
    "\n",
    "    return conv2d_maxpool_tensor\n",
    "\n",
    "\n",
    "\"\"\"\n",
    "DON'T MODIFY ANYTHING IN THIS CELL THAT IS BELOW THIS LINE\n",
    "\"\"\"\n",
    "tests.test_con_pool(conv2d_maxpool)"
   ]
  },
  {
   "cell_type": "markdown",
   "metadata": {},
   "source": [
    "### Flatten Layer\n",
    "Implement the `flatten` function to change the dimension of `x_tensor` from a 4-D tensor to a 2-D tensor.  The output should be the shape (*Batch Size*, *Flattened Image Size*). Shortcut option: you can use classes from the [TensorFlow Layers](https://www.tensorflow.org/api_docs/python/tf/layers) or [TensorFlow Layers (contrib)](https://www.tensorflow.org/api_guides/python/contrib.layers) packages for this layer. For more of a challenge, only use other TensorFlow packages."
   ]
  },
  {
   "cell_type": "code",
   "execution_count": 9,
   "metadata": {},
   "outputs": [
    {
     "name": "stdout",
     "output_type": "stream",
     "text": [
      "Tests Passed\n"
     ]
    }
   ],
   "source": [
    "def flatten(x_tensor):\n",
    "    \"\"\"\n",
    "    Flatten x_tensor to (Batch Size, Flattened Image Size)\n",
    "    : x_tensor: A tensor of size (Batch Size, ...), where ... are the image dimensions.\n",
    "    : return: A tensor of size (Batch Size, Flattened Image Size).\n",
    "    \"\"\"\n",
    "    return tf.contrib.layers.flatten(x_tensor)\n",
    "\n",
    "\n",
    "\"\"\"\n",
    "DON'T MODIFY ANYTHING IN THIS CELL THAT IS BELOW THIS LINE\n",
    "\"\"\"\n",
    "tests.test_flatten(flatten)"
   ]
  },
  {
   "cell_type": "markdown",
   "metadata": {},
   "source": [
    "### Fully-Connected Layer\n",
    "Implement the `fully_conn` function to apply a fully connected layer to `x_tensor` with the shape (*Batch Size*, *num_outputs*). Shortcut option: you can use classes from the [TensorFlow Layers](https://www.tensorflow.org/api_docs/python/tf/layers) or [TensorFlow Layers (contrib)](https://www.tensorflow.org/api_guides/python/contrib.layers) packages for this layer. For more of a challenge, only use other TensorFlow packages."
   ]
  },
  {
   "cell_type": "code",
   "execution_count": 10,
   "metadata": {},
   "outputs": [
    {
     "name": "stdout",
     "output_type": "stream",
     "text": [
      "Tests Passed\n"
     ]
    }
   ],
   "source": [
    "def fully_conn(x_tensor, num_outputs):\n",
    "    \"\"\"\n",
    "    Apply a fully connected layer to x_tensor using weight and bias\n",
    "    : x_tensor: A 2-D tensor where the first dimension is batch size.\n",
    "    : num_outputs: The number of output that the new tensor should be.\n",
    "    : return: A 2-D tensor where the second dimension is num_outputs.\n",
    "    \"\"\"\n",
    "    return tf.contrib.layers.fully_connected(x_tensor, num_outputs)\n",
    "\n",
    "\n",
    "\"\"\"\n",
    "DON'T MODIFY ANYTHING IN THIS CELL THAT IS BELOW THIS LINE\n",
    "\"\"\"\n",
    "tests.test_fully_conn(fully_conn)"
   ]
  },
  {
   "cell_type": "markdown",
   "metadata": {},
   "source": [
    "### Output Layer\n",
    "Implement the `output` function to apply a fully connected layer to `x_tensor` with the shape (*Batch Size*, *num_outputs*). Shortcut option: you can use classes from the [TensorFlow Layers](https://www.tensorflow.org/api_docs/python/tf/layers) or [TensorFlow Layers (contrib)](https://www.tensorflow.org/api_guides/python/contrib.layers) packages for this layer. For more of a challenge, only use other TensorFlow packages.\n",
    "\n",
    "**Note:** Activation, softmax, or cross entropy should **not** be applied to this."
   ]
  },
  {
   "cell_type": "code",
   "execution_count": 11,
   "metadata": {},
   "outputs": [
    {
     "name": "stdout",
     "output_type": "stream",
     "text": [
      "Tests Passed\n"
     ]
    }
   ],
   "source": [
    "def output(x_tensor, num_outputs):\n",
    "    \"\"\"\n",
    "    Apply a output layer to x_tensor using weight and bias\n",
    "    : x_tensor: A 2-D tensor where the first dimension is batch size.\n",
    "    : num_outputs: The number of output that the new tensor should be.\n",
    "    : return: A 2-D tensor where the second dimension is num_outputs.\n",
    "    \"\"\"\n",
    "    return tf.contrib.layers.fully_connected(x_tensor, num_outputs, activation_fn = None)\n",
    "\n",
    "\n",
    "\"\"\"\n",
    "DON'T MODIFY ANYTHING IN THIS CELL THAT IS BELOW THIS LINE\n",
    "\"\"\"\n",
    "tests.test_output(output)"
   ]
  },
  {
   "cell_type": "markdown",
   "metadata": {},
   "source": [
    "### Create Convolutional Model\n",
    "Implement the function `conv_net` to create a convolutional neural network model. The function takes in a batch of images, `x`, and outputs logits.  Use the layers you created above to create this model:\n",
    "\n",
    "* Apply 1, 2, or 3 Convolution and Max Pool layers\n",
    "* Apply a Flatten Layer\n",
    "* Apply 1, 2, or 3 Fully Connected Layers\n",
    "* Apply an Output Layer\n",
    "* Return the output\n",
    "* Apply [TensorFlow's Dropout](https://www.tensorflow.org/api_docs/python/tf/nn/dropout) to one or more layers in the model using `keep_prob`. "
   ]
  },
  {
   "cell_type": "code",
   "execution_count": 12,
   "metadata": {},
   "outputs": [
    {
     "name": "stdout",
     "output_type": "stream",
     "text": [
      "Neural Network Built!\n"
     ]
    }
   ],
   "source": [
    "def conv_net(x, keep_prob):\n",
    "    \"\"\"\n",
    "    Create a convolutional neural network model\n",
    "    : x: Placeholder tensor that holds image data.\n",
    "    : keep_prob: Placeholder tensor that hold dropout keep probability.\n",
    "    : return: Tensor that represents logits\n",
    "    \"\"\"\n",
    "    # TODO: Apply 1, 2, or 3 Convolution and Max Pool layers\n",
    "    #    Play around with different number of outputs, kernel size and stride\n",
    "    # Function Definition from Above:\n",
    "    #    conv2d_maxpool(x_tensor, conv_num_outputs, conv_ksize, conv_strides, pool_ksize, pool_strides)\n",
    "    conv_layer = conv2d_maxpool(x, 32, (3,3), (1,1), (2,2), (2,2))\n",
    "    conv_layer = conv2d_maxpool(conv_layer, 64, (3,3), (1,1), (2,2), (2,2))\n",
    "    conv_layer = conv2d_maxpool(conv_layer, 128, (3,3), (1,1), (2,2), (2,2))\n",
    "    conv_layer = tf.nn.dropout(conv_layer, keep_prob)\n",
    "\n",
    "    # TODO: Apply a Flatten Layer\n",
    "    # Function Definition from Above:\n",
    "    #   flatten(x_tensor)\n",
    "    flatten_layer = flatten(conv_layer)\n",
    "\n",
    "    # TODO: Apply 1, 2, or 3 Fully Connected Layers\n",
    "    #    Play around with different number of outputs\n",
    "    # Function Definition from Above:\n",
    "    #   fully_conn(x_tensor, num_outputs)\n",
    "    fully_conn_layer = fully_conn(flatten_layer, 128)\n",
    "    fully_conn_layer = tf.nn.dropout(fully_conn_layer, keep_prob)\n",
    "    fully_conn_layer = fully_conn(flatten_layer, 64)\n",
    "    fully_conn_layer = fully_conn(flatten_layer, 32)\n",
    "    \n",
    "    \n",
    "    # TODO: Apply an Output Layer\n",
    "    #    Set this to the number of classes\n",
    "    # Function Definition from Above:\n",
    "    #   output(x_tensor, num_outputs)\n",
    "    output_layer = output(fully_conn_layer, 10)\n",
    "    \n",
    "    \n",
    "    return output_layer\n",
    "\n",
    "\n",
    "\"\"\"\n",
    "DON'T MODIFY ANYTHING IN THIS CELL THAT IS BELOW THIS LINE\n",
    "\"\"\"\n",
    "\n",
    "##############################\n",
    "## Build the Neural Network ##\n",
    "##############################\n",
    "\n",
    "# Remove previous weights, bias, inputs, etc..\n",
    "tf.reset_default_graph()\n",
    "\n",
    "# Inputs\n",
    "x = neural_net_image_input((32, 32, 3))\n",
    "y = neural_net_label_input(10)\n",
    "keep_prob = neural_net_keep_prob_input()\n",
    "\n",
    "# Model\n",
    "logits = conv_net(x, keep_prob)\n",
    "\n",
    "# Name logits Tensor, so that is can be loaded from disk after training\n",
    "logits = tf.identity(logits, name='logits')\n",
    "\n",
    "# Loss and Optimizer\n",
    "cost = tf.reduce_mean(tf.nn.softmax_cross_entropy_with_logits(logits=logits, labels=y))\n",
    "optimizer = tf.train.AdamOptimizer().minimize(cost)\n",
    "\n",
    "# Accuracy\n",
    "correct_pred = tf.equal(tf.argmax(logits, 1), tf.argmax(y, 1))\n",
    "accuracy = tf.reduce_mean(tf.cast(correct_pred, tf.float32), name='accuracy')\n",
    "\n",
    "tests.test_conv_net(conv_net)"
   ]
  },
  {
   "cell_type": "markdown",
   "metadata": {},
   "source": [
    "## Train the Neural Network\n",
    "### Single Optimization\n",
    "Implement the function `train_neural_network` to do a single optimization.  The optimization should use `optimizer` to optimize in `session` with a `feed_dict` of the following:\n",
    "* `x` for image input\n",
    "* `y` for labels\n",
    "* `keep_prob` for keep probability for dropout\n",
    "\n",
    "This function will be called for each batch, so `tf.global_variables_initializer()` has already been called.\n",
    "\n",
    "Note: Nothing needs to be returned. This function is only optimizing the neural network."
   ]
  },
  {
   "cell_type": "code",
   "execution_count": 13,
   "metadata": {},
   "outputs": [
    {
     "name": "stdout",
     "output_type": "stream",
     "text": [
      "Tests Passed\n"
     ]
    }
   ],
   "source": [
    "def train_neural_network(session, optimizer, keep_probability, feature_batch, label_batch):\n",
    "    \"\"\"\n",
    "    Optimize the session on a batch of images and labels\n",
    "    : session: Current TensorFlow session\n",
    "    : optimizer: TensorFlow optimizer function\n",
    "    : keep_probability: keep probability\n",
    "    : feature_batch: Batch of Numpy image data\n",
    "    : label_batch: Batch of Numpy label data\n",
    "    \"\"\"\n",
    "    session.run(optimizer, feed_dict={x:feature_batch, y:label_batch, keep_prob:keep_probability})\n",
    "\n",
    "\n",
    "\"\"\"\n",
    "DON'T MODIFY ANYTHING IN THIS CELL THAT IS BELOW THIS LINE\n",
    "\"\"\"\n",
    "tests.test_train_nn(train_neural_network)"
   ]
  },
  {
   "cell_type": "markdown",
   "metadata": {},
   "source": [
    "### Show Stats\n",
    "Implement the function `print_stats` to print loss and validation accuracy.  Use the global variables `valid_features` and `valid_labels` to calculate validation accuracy.  Use a keep probability of `1.0` to calculate the loss and validation accuracy."
   ]
  },
  {
   "cell_type": "code",
   "execution_count": 14,
   "metadata": {},
   "outputs": [],
   "source": [
    "def print_stats(session, feature_batch, label_batch, cost, accuracy):\n",
    "    \"\"\"\n",
    "    Print information about loss and validation accuracy\n",
    "    : session: Current TensorFlow session\n",
    "    : feature_batch: Batch of Numpy image data\n",
    "    : label_batch: Batch of Numpy label data\n",
    "    : cost: TensorFlow cost function\n",
    "    : accuracy: TensorFlow accuracy function\n",
    "    \"\"\"\n",
    "    loss = session.run(cost, feed_dict={x:feature_batch, y:label_batch, keep_prob:1.0}) \n",
    "    valid_acc = session.run(accuracy, feed_dict={x:valid_features, y:valid_labels, keep_prob:1.0})\n",
    "    print('Loss: {:.5f} | Validation Accuracy: {:.5f}'.format(loss, valid_acc))"
   ]
  },
  {
   "cell_type": "markdown",
   "metadata": {},
   "source": [
    "### Hyperparameters\n",
    "Tune the following parameters:\n",
    "* Set `epochs` to the number of iterations until the network stops learning or start overfitting\n",
    "* Set `batch_size` to the highest number that your machine has memory for.  Most people set them to common sizes of memory:\n",
    " * 64\n",
    " * 128\n",
    " * 256\n",
    " * ...\n",
    "* Set `keep_probability` to the probability of keeping a node using dropout"
   ]
  },
  {
   "cell_type": "code",
   "execution_count": 15,
   "metadata": {},
   "outputs": [],
   "source": [
    "# Tune Parameters\n",
    "epochs = 25\n",
    "batch_size = 1024\n",
    "keep_probability = 0.75"
   ]
  },
  {
   "cell_type": "markdown",
   "metadata": {},
   "source": [
    "### Train on a Single CIFAR-10 Batch\n",
    "Instead of training the neural network on all the CIFAR-10 batches of data, let's use a single batch. This should save time while you iterate on the model to get a better accuracy.  Once the final validation accuracy is 50% or greater, run the model on all the data in the next section."
   ]
  },
  {
   "cell_type": "code",
   "execution_count": 16,
   "metadata": {},
   "outputs": [
    {
     "name": "stdout",
     "output_type": "stream",
     "text": [
      "Checking the Training on a Single Batch...\n",
      "Epoch  1, CIFAR-10 Batch 1:  Loss: 2.18223 | Validation Accuracy: 0.22020\n",
      "Epoch  2, CIFAR-10 Batch 1:  Loss: 1.99283 | Validation Accuracy: 0.29740\n",
      "Epoch  3, CIFAR-10 Batch 1:  Loss: 1.93736 | Validation Accuracy: 0.31540\n",
      "Epoch  4, CIFAR-10 Batch 1:  Loss: 1.82680 | Validation Accuracy: 0.35920\n",
      "Epoch  5, CIFAR-10 Batch 1:  Loss: 1.75779 | Validation Accuracy: 0.38460\n",
      "Epoch  6, CIFAR-10 Batch 1:  Loss: 1.71696 | Validation Accuracy: 0.39020\n",
      "Epoch  7, CIFAR-10 Batch 1:  Loss: 1.63718 | Validation Accuracy: 0.41820\n",
      "Epoch  8, CIFAR-10 Batch 1:  Loss: 1.59088 | Validation Accuracy: 0.44140\n",
      "Epoch  9, CIFAR-10 Batch 1:  Loss: 1.54035 | Validation Accuracy: 0.44900\n",
      "Epoch 10, CIFAR-10 Batch 1:  Loss: 1.49169 | Validation Accuracy: 0.46260\n",
      "Epoch 11, CIFAR-10 Batch 1:  Loss: 1.46438 | Validation Accuracy: 0.46500\n",
      "Epoch 12, CIFAR-10 Batch 1:  Loss: 1.42781 | Validation Accuracy: 0.47380\n",
      "Epoch 13, CIFAR-10 Batch 1:  Loss: 1.38433 | Validation Accuracy: 0.48300\n",
      "Epoch 14, CIFAR-10 Batch 1:  Loss: 1.36586 | Validation Accuracy: 0.48900\n",
      "Epoch 15, CIFAR-10 Batch 1:  Loss: 1.30753 | Validation Accuracy: 0.50860\n",
      "Epoch 16, CIFAR-10 Batch 1:  Loss: 1.28030 | Validation Accuracy: 0.51160\n",
      "Epoch 17, CIFAR-10 Batch 1:  Loss: 1.26236 | Validation Accuracy: 0.51560\n",
      "Epoch 18, CIFAR-10 Batch 1:  Loss: 1.24238 | Validation Accuracy: 0.52240\n",
      "Epoch 19, CIFAR-10 Batch 1:  Loss: 1.20191 | Validation Accuracy: 0.53540\n",
      "Epoch 20, CIFAR-10 Batch 1:  Loss: 1.18383 | Validation Accuracy: 0.53820\n",
      "Epoch 21, CIFAR-10 Batch 1:  Loss: 1.18617 | Validation Accuracy: 0.54060\n",
      "Epoch 22, CIFAR-10 Batch 1:  Loss: 1.14741 | Validation Accuracy: 0.54140\n",
      "Epoch 23, CIFAR-10 Batch 1:  Loss: 1.17294 | Validation Accuracy: 0.53220\n",
      "Epoch 24, CIFAR-10 Batch 1:  Loss: 1.13521 | Validation Accuracy: 0.54300\n",
      "Epoch 25, CIFAR-10 Batch 1:  Loss: 1.09201 | Validation Accuracy: 0.55960\n"
     ]
    }
   ],
   "source": [
    "\"\"\"\n",
    "DON'T MODIFY ANYTHING IN THIS CELL\n",
    "\"\"\"\n",
    "print('Checking the Training on a Single Batch...')\n",
    "with tf.Session() as sess:\n",
    "    # Initializing the variables\n",
    "    sess.run(tf.global_variables_initializer())\n",
    "    \n",
    "    # Training cycle\n",
    "    for epoch in range(epochs):\n",
    "        batch_i = 1\n",
    "        for batch_features, batch_labels in helper.load_preprocess_training_batch(batch_i, batch_size):\n",
    "            train_neural_network(sess, optimizer, keep_probability, batch_features, batch_labels)\n",
    "        print('Epoch {:>2}, CIFAR-10 Batch {}:  '.format(epoch + 1, batch_i), end='')\n",
    "        print_stats(sess, batch_features, batch_labels, cost, accuracy)"
   ]
  },
  {
   "cell_type": "markdown",
   "metadata": {},
   "source": [
    "### Fully Train the Model\n",
    "Now that you got a good accuracy with a single CIFAR-10 batch, try it with all five batches."
   ]
  },
  {
   "cell_type": "code",
   "execution_count": 17,
   "metadata": {},
   "outputs": [
    {
     "name": "stdout",
     "output_type": "stream",
     "text": [
      "Training...\n",
      "Epoch  1, CIFAR-10 Batch 1:  Loss: 2.19959 | Validation Accuracy: 0.23980\n",
      "Epoch  1, CIFAR-10 Batch 2:  Loss: 2.04335 | Validation Accuracy: 0.27740\n",
      "Epoch  1, CIFAR-10 Batch 3:  Loss: 1.88395 | Validation Accuracy: 0.28420\n",
      "Epoch  1, CIFAR-10 Batch 4:  Loss: 1.76630 | Validation Accuracy: 0.36220\n",
      "Epoch  1, CIFAR-10 Batch 5:  Loss: 1.74068 | Validation Accuracy: 0.37420\n",
      "Epoch  2, CIFAR-10 Batch 1:  Loss: 1.69280 | Validation Accuracy: 0.39700\n",
      "Epoch  2, CIFAR-10 Batch 2:  Loss: 1.62345 | Validation Accuracy: 0.41920\n",
      "Epoch  2, CIFAR-10 Batch 3:  Loss: 1.51886 | Validation Accuracy: 0.42620\n",
      "Epoch  2, CIFAR-10 Batch 4:  Loss: 1.51699 | Validation Accuracy: 0.45280\n",
      "Epoch  2, CIFAR-10 Batch 5:  Loss: 1.50067 | Validation Accuracy: 0.44880\n",
      "Epoch  3, CIFAR-10 Batch 1:  Loss: 1.46224 | Validation Accuracy: 0.46740\n",
      "Epoch  3, CIFAR-10 Batch 2:  Loss: 1.46963 | Validation Accuracy: 0.48180\n",
      "Epoch  3, CIFAR-10 Batch 3:  Loss: 1.39903 | Validation Accuracy: 0.48220\n",
      "Epoch  3, CIFAR-10 Batch 4:  Loss: 1.38694 | Validation Accuracy: 0.49380\n",
      "Epoch  3, CIFAR-10 Batch 5:  Loss: 1.38753 | Validation Accuracy: 0.49100\n",
      "Epoch  4, CIFAR-10 Batch 1:  Loss: 1.36066 | Validation Accuracy: 0.50380\n",
      "Epoch  4, CIFAR-10 Batch 2:  Loss: 1.43904 | Validation Accuracy: 0.48460\n",
      "Epoch  4, CIFAR-10 Batch 3:  Loss: 1.32480 | Validation Accuracy: 0.49960\n",
      "Epoch  4, CIFAR-10 Batch 4:  Loss: 1.30430 | Validation Accuracy: 0.51860\n",
      "Epoch  4, CIFAR-10 Batch 5:  Loss: 1.31095 | Validation Accuracy: 0.51480\n",
      "Epoch  5, CIFAR-10 Batch 1:  Loss: 1.28747 | Validation Accuracy: 0.52840\n",
      "Epoch  5, CIFAR-10 Batch 2:  Loss: 1.32532 | Validation Accuracy: 0.52780\n",
      "Epoch  5, CIFAR-10 Batch 3:  Loss: 1.24043 | Validation Accuracy: 0.53320\n",
      "Epoch  5, CIFAR-10 Batch 4:  Loss: 1.22803 | Validation Accuracy: 0.54360\n",
      "Epoch  5, CIFAR-10 Batch 5:  Loss: 1.24638 | Validation Accuracy: 0.53760\n",
      "Epoch  6, CIFAR-10 Batch 1:  Loss: 1.23398 | Validation Accuracy: 0.54720\n",
      "Epoch  6, CIFAR-10 Batch 2:  Loss: 1.27447 | Validation Accuracy: 0.54960\n",
      "Epoch  6, CIFAR-10 Batch 3:  Loss: 1.19198 | Validation Accuracy: 0.55540\n",
      "Epoch  6, CIFAR-10 Batch 4:  Loss: 1.16599 | Validation Accuracy: 0.56520\n",
      "Epoch  6, CIFAR-10 Batch 5:  Loss: 1.18624 | Validation Accuracy: 0.56160\n",
      "Epoch  7, CIFAR-10 Batch 1:  Loss: 1.16482 | Validation Accuracy: 0.56900\n",
      "Epoch  7, CIFAR-10 Batch 2:  Loss: 1.21500 | Validation Accuracy: 0.56720\n",
      "Epoch  7, CIFAR-10 Batch 3:  Loss: 1.13352 | Validation Accuracy: 0.57680\n",
      "Epoch  7, CIFAR-10 Batch 4:  Loss: 1.10873 | Validation Accuracy: 0.58440\n",
      "Epoch  7, CIFAR-10 Batch 5:  Loss: 1.13900 | Validation Accuracy: 0.57640\n",
      "Epoch  8, CIFAR-10 Batch 1:  Loss: 1.12302 | Validation Accuracy: 0.57920\n",
      "Epoch  8, CIFAR-10 Batch 2:  Loss: 1.15300 | Validation Accuracy: 0.59160\n",
      "Epoch  8, CIFAR-10 Batch 3:  Loss: 1.10327 | Validation Accuracy: 0.58200\n",
      "Epoch  8, CIFAR-10 Batch 4:  Loss: 1.06712 | Validation Accuracy: 0.59440\n",
      "Epoch  8, CIFAR-10 Batch 5:  Loss: 1.08983 | Validation Accuracy: 0.59620\n",
      "Epoch  9, CIFAR-10 Batch 1:  Loss: 1.06358 | Validation Accuracy: 0.60020\n",
      "Epoch  9, CIFAR-10 Batch 2:  Loss: 1.10845 | Validation Accuracy: 0.60480\n",
      "Epoch  9, CIFAR-10 Batch 3:  Loss: 1.05465 | Validation Accuracy: 0.60480\n",
      "Epoch  9, CIFAR-10 Batch 4:  Loss: 1.02221 | Validation Accuracy: 0.61220\n",
      "Epoch  9, CIFAR-10 Batch 5:  Loss: 1.05806 | Validation Accuracy: 0.60560\n",
      "Epoch 10, CIFAR-10 Batch 1:  Loss: 1.03423 | Validation Accuracy: 0.60880\n",
      "Epoch 10, CIFAR-10 Batch 2:  Loss: 1.08925 | Validation Accuracy: 0.61340\n",
      "Epoch 10, CIFAR-10 Batch 3:  Loss: 1.04476 | Validation Accuracy: 0.60240\n",
      "Epoch 10, CIFAR-10 Batch 4:  Loss: 1.00196 | Validation Accuracy: 0.61920\n",
      "Epoch 10, CIFAR-10 Batch 5:  Loss: 1.03482 | Validation Accuracy: 0.61320\n",
      "Epoch 11, CIFAR-10 Batch 1:  Loss: 0.99481 | Validation Accuracy: 0.62700\n",
      "Epoch 11, CIFAR-10 Batch 2:  Loss: 1.03186 | Validation Accuracy: 0.62880\n",
      "Epoch 11, CIFAR-10 Batch 3:  Loss: 0.98180 | Validation Accuracy: 0.62700\n",
      "Epoch 11, CIFAR-10 Batch 4:  Loss: 0.96013 | Validation Accuracy: 0.63280\n",
      "Epoch 11, CIFAR-10 Batch 5:  Loss: 0.98423 | Validation Accuracy: 0.62820\n",
      "Epoch 12, CIFAR-10 Batch 1:  Loss: 0.95692 | Validation Accuracy: 0.64260\n",
      "Epoch 12, CIFAR-10 Batch 2:  Loss: 0.98861 | Validation Accuracy: 0.64080\n",
      "Epoch 12, CIFAR-10 Batch 3:  Loss: 0.94605 | Validation Accuracy: 0.63680\n",
      "Epoch 12, CIFAR-10 Batch 4:  Loss: 0.92513 | Validation Accuracy: 0.64340\n",
      "Epoch 12, CIFAR-10 Batch 5:  Loss: 0.95981 | Validation Accuracy: 0.63620\n",
      "Epoch 13, CIFAR-10 Batch 1:  Loss: 0.92687 | Validation Accuracy: 0.65080\n",
      "Epoch 13, CIFAR-10 Batch 2:  Loss: 0.94726 | Validation Accuracy: 0.65380\n",
      "Epoch 13, CIFAR-10 Batch 3:  Loss: 0.91566 | Validation Accuracy: 0.64460\n",
      "Epoch 13, CIFAR-10 Batch 4:  Loss: 0.88949 | Validation Accuracy: 0.65580\n",
      "Epoch 13, CIFAR-10 Batch 5:  Loss: 0.93406 | Validation Accuracy: 0.64300\n",
      "Epoch 14, CIFAR-10 Batch 1:  Loss: 0.89450 | Validation Accuracy: 0.65980\n",
      "Epoch 14, CIFAR-10 Batch 2:  Loss: 0.92987 | Validation Accuracy: 0.65420\n",
      "Epoch 14, CIFAR-10 Batch 3:  Loss: 0.89696 | Validation Accuracy: 0.65200\n",
      "Epoch 14, CIFAR-10 Batch 4:  Loss: 0.89225 | Validation Accuracy: 0.65680\n",
      "Epoch 14, CIFAR-10 Batch 5:  Loss: 0.90174 | Validation Accuracy: 0.65280\n",
      "Epoch 15, CIFAR-10 Batch 1:  Loss: 0.87326 | Validation Accuracy: 0.66640\n",
      "Epoch 15, CIFAR-10 Batch 2:  Loss: 0.89195 | Validation Accuracy: 0.66720\n",
      "Epoch 15, CIFAR-10 Batch 3:  Loss: 0.85700 | Validation Accuracy: 0.66440\n",
      "Epoch 15, CIFAR-10 Batch 4:  Loss: 0.86570 | Validation Accuracy: 0.65820\n",
      "Epoch 15, CIFAR-10 Batch 5:  Loss: 0.87288 | Validation Accuracy: 0.66060\n",
      "Epoch 16, CIFAR-10 Batch 1:  Loss: 0.85219 | Validation Accuracy: 0.67320\n",
      "Epoch 16, CIFAR-10 Batch 2:  Loss: 0.85764 | Validation Accuracy: 0.66860\n",
      "Epoch 16, CIFAR-10 Batch 3:  Loss: 0.82382 | Validation Accuracy: 0.67300\n",
      "Epoch 16, CIFAR-10 Batch 4:  Loss: 0.84859 | Validation Accuracy: 0.66440\n",
      "Epoch 16, CIFAR-10 Batch 5:  Loss: 0.84172 | Validation Accuracy: 0.67020\n",
      "Epoch 17, CIFAR-10 Batch 1:  Loss: 0.84818 | Validation Accuracy: 0.66520\n",
      "Epoch 17, CIFAR-10 Batch 2:  Loss: 0.84609 | Validation Accuracy: 0.67560\n",
      "Epoch 17, CIFAR-10 Batch 3:  Loss: 0.80336 | Validation Accuracy: 0.68280\n",
      "Epoch 17, CIFAR-10 Batch 4:  Loss: 0.80360 | Validation Accuracy: 0.68040\n",
      "Epoch 17, CIFAR-10 Batch 5:  Loss: 0.79920 | Validation Accuracy: 0.68140\n",
      "Epoch 18, CIFAR-10 Batch 1:  Loss: 0.81883 | Validation Accuracy: 0.67860\n",
      "Epoch 18, CIFAR-10 Batch 2:  Loss: 0.81250 | Validation Accuracy: 0.68720\n",
      "Epoch 18, CIFAR-10 Batch 3:  Loss: 0.78655 | Validation Accuracy: 0.68380\n",
      "Epoch 18, CIFAR-10 Batch 4:  Loss: 0.79217 | Validation Accuracy: 0.67880\n",
      "Epoch 18, CIFAR-10 Batch 5:  Loss: 0.78040 | Validation Accuracy: 0.68520\n",
      "Epoch 19, CIFAR-10 Batch 1:  Loss: 0.80187 | Validation Accuracy: 0.68360\n",
      "Epoch 19, CIFAR-10 Batch 2:  Loss: 0.78314 | Validation Accuracy: 0.69220\n",
      "Epoch 19, CIFAR-10 Batch 3:  Loss: 0.76507 | Validation Accuracy: 0.68620\n",
      "Epoch 19, CIFAR-10 Batch 4:  Loss: 0.77093 | Validation Accuracy: 0.68880\n",
      "Epoch 19, CIFAR-10 Batch 5:  Loss: 0.76367 | Validation Accuracy: 0.69280\n",
      "Epoch 20, CIFAR-10 Batch 1:  Loss: 0.77129 | Validation Accuracy: 0.69360\n",
      "Epoch 20, CIFAR-10 Batch 2:  Loss: 0.76118 | Validation Accuracy: 0.70260\n",
      "Epoch 20, CIFAR-10 Batch 3:  Loss: 0.74653 | Validation Accuracy: 0.69600\n",
      "Epoch 20, CIFAR-10 Batch 4:  Loss: 0.75971 | Validation Accuracy: 0.69360\n",
      "Epoch 20, CIFAR-10 Batch 5:  Loss: 0.74883 | Validation Accuracy: 0.69440\n",
      "Epoch 21, CIFAR-10 Batch 1:  Loss: 0.75574 | Validation Accuracy: 0.69660\n",
      "Epoch 21, CIFAR-10 Batch 2:  Loss: 0.75293 | Validation Accuracy: 0.70380\n",
      "Epoch 21, CIFAR-10 Batch 3:  Loss: 0.72830 | Validation Accuracy: 0.69840\n",
      "Epoch 21, CIFAR-10 Batch 4:  Loss: 0.73476 | Validation Accuracy: 0.69660\n",
      "Epoch 21, CIFAR-10 Batch 5:  Loss: 0.72126 | Validation Accuracy: 0.69900\n",
      "Epoch 22, CIFAR-10 Batch 1:  Loss: 0.73323 | Validation Accuracy: 0.70020\n",
      "Epoch 22, CIFAR-10 Batch 2:  Loss: 0.72386 | Validation Accuracy: 0.70860\n",
      "Epoch 22, CIFAR-10 Batch 3:  Loss: 0.71320 | Validation Accuracy: 0.70380\n",
      "Epoch 22, CIFAR-10 Batch 4:  Loss: 0.70524 | Validation Accuracy: 0.70820\n",
      "Epoch 22, CIFAR-10 Batch 5:  Loss: 0.69871 | Validation Accuracy: 0.70780\n"
     ]
    },
    {
     "name": "stdout",
     "output_type": "stream",
     "text": [
      "Epoch 23, CIFAR-10 Batch 1:  Loss: 0.70881 | Validation Accuracy: 0.70680\n",
      "Epoch 23, CIFAR-10 Batch 2:  Loss: 0.70766 | Validation Accuracy: 0.71480\n",
      "Epoch 23, CIFAR-10 Batch 3:  Loss: 0.69400 | Validation Accuracy: 0.70720\n",
      "Epoch 23, CIFAR-10 Batch 4:  Loss: 0.68907 | Validation Accuracy: 0.71520\n",
      "Epoch 23, CIFAR-10 Batch 5:  Loss: 0.67813 | Validation Accuracy: 0.71160\n",
      "Epoch 24, CIFAR-10 Batch 1:  Loss: 0.68818 | Validation Accuracy: 0.71120\n",
      "Epoch 24, CIFAR-10 Batch 2:  Loss: 0.69100 | Validation Accuracy: 0.71820\n",
      "Epoch 24, CIFAR-10 Batch 3:  Loss: 0.67956 | Validation Accuracy: 0.71060\n",
      "Epoch 24, CIFAR-10 Batch 4:  Loss: 0.68279 | Validation Accuracy: 0.71300\n",
      "Epoch 24, CIFAR-10 Batch 5:  Loss: 0.67298 | Validation Accuracy: 0.71480\n",
      "Epoch 25, CIFAR-10 Batch 1:  Loss: 0.66835 | Validation Accuracy: 0.71740\n",
      "Epoch 25, CIFAR-10 Batch 2:  Loss: 0.69645 | Validation Accuracy: 0.70700\n",
      "Epoch 25, CIFAR-10 Batch 3:  Loss: 0.65640 | Validation Accuracy: 0.71940\n",
      "Epoch 25, CIFAR-10 Batch 4:  Loss: 0.66197 | Validation Accuracy: 0.71420\n",
      "Epoch 25, CIFAR-10 Batch 5:  Loss: 0.64886 | Validation Accuracy: 0.71940\n"
     ]
    }
   ],
   "source": [
    "\"\"\"\n",
    "DON'T MODIFY ANYTHING IN THIS CELL\n",
    "\"\"\"\n",
    "save_model_path = './image_classification'\n",
    "\n",
    "print('Training...')\n",
    "with tf.Session() as sess:\n",
    "    # Initializing the variables\n",
    "    sess.run(tf.global_variables_initializer())\n",
    "    \n",
    "    # Training cycle\n",
    "    for epoch in range(epochs):\n",
    "        # Loop over all batches\n",
    "        n_batches = 5\n",
    "        for batch_i in range(1, n_batches + 1):\n",
    "            for batch_features, batch_labels in helper.load_preprocess_training_batch(batch_i, batch_size):\n",
    "                train_neural_network(sess, optimizer, keep_probability, batch_features, batch_labels)\n",
    "            print('Epoch {:>2}, CIFAR-10 Batch {}:  '.format(epoch + 1, batch_i), end='')\n",
    "            print_stats(sess, batch_features, batch_labels, cost, accuracy)\n",
    "            \n",
    "    # Save Model\n",
    "    saver = tf.train.Saver()\n",
    "    save_path = saver.save(sess, save_model_path)"
   ]
  },
  {
   "cell_type": "markdown",
   "metadata": {},
   "source": [
    "# Checkpoint\n",
    "The model has been saved to disk.\n",
    "## Test Model\n",
    "Test your model against the test dataset.  This will be your final accuracy. You should have an accuracy greater than 50%. If you don't, keep tweaking the model architecture and parameters."
   ]
  },
  {
   "cell_type": "code",
   "execution_count": 19,
   "metadata": {},
   "outputs": [
    {
     "name": "stdout",
     "output_type": "stream",
     "text": [
      "INFO:tensorflow:Restoring parameters from ./image_classification\n",
      "Testing Accuracy: 0.7191386342048645\n",
      "\n"
     ]
    },
    {
     "data": {
      "image/png": "[encoded data removed]",
      "text/plain": [
       "<matplotlib.figure.Figure at 0x13a96c18>"
      ]
     },
     "metadata": {
      "image/png": {
       "height": 319,
       "width": 355
      }
     },
     "output_type": "display_data"
    }
   ],
   "source": [
    "\"\"\"\n",
    "DON'T MODIFY ANYTHING IN THIS CELL\n",
    "\"\"\"\n",
    "%matplotlib inline\n",
    "%config InlineBackend.figure_format = 'retina'\n",
    "\n",
    "import tensorflow as tf\n",
    "import pickle\n",
    "import helper\n",
    "import random\n",
    "\n",
    "# Set batch size if not already set\n",
    "try:\n",
    "    if batch_size:\n",
    "        pass\n",
    "except NameError:\n",
    "    batch_size = 64\n",
    "\n",
    "save_model_path = './image_classification'\n",
    "n_samples = 4\n",
    "top_n_predictions = 3\n",
    "\n",
    "def test_model():\n",
    "    \"\"\"\n",
    "    Test the saved model against the test dataset\n",
    "    \"\"\"\n",
    "\n",
    "    test_features, test_labels = pickle.load(open('preprocess_training.p', mode='rb'))\n",
    "    loaded_graph = tf.Graph()\n",
    "\n",
    "    with tf.Session(graph=loaded_graph) as sess:\n",
    "        # Load model\n",
    "        loader = tf.train.import_meta_graph(save_model_path + '.meta')\n",
    "        loader.restore(sess, save_model_path)\n",
    "\n",
    "        # Get Tensors from loaded model\n",
    "        loaded_x = loaded_graph.get_tensor_by_name('x:0')\n",
    "        loaded_y = loaded_graph.get_tensor_by_name('y:0')\n",
    "        loaded_keep_prob = loaded_graph.get_tensor_by_name('keep_prob:0')\n",
    "        loaded_logits = loaded_graph.get_tensor_by_name('logits:0')\n",
    "        loaded_acc = loaded_graph.get_tensor_by_name('accuracy:0')\n",
    "        \n",
    "        # Get accuracy in batches for memory limitations\n",
    "        test_batch_acc_total = 0\n",
    "        test_batch_count = 0\n",
    "        \n",
    "        for train_feature_batch, train_label_batch in helper.batch_features_labels(test_features, test_labels, batch_size):\n",
    "            test_batch_acc_total += sess.run(\n",
    "                loaded_acc,\n",
    "                feed_dict={loaded_x: train_feature_batch, loaded_y: train_label_batch, loaded_keep_prob: 1.0})\n",
    "            test_batch_count += 1\n",
    "\n",
    "        print('Testing Accuracy: {}\\n'.format(test_batch_acc_total/test_batch_count))\n",
    "\n",
    "        # Print Random Samples\n",
    "        random_test_features, random_test_labels = tuple(zip(*random.sample(list(zip(test_features, test_labels)), n_samples)))\n",
    "        random_test_predictions = sess.run(\n",
    "            tf.nn.top_k(tf.nn.softmax(loaded_logits), top_n_predictions),\n",
    "            feed_dict={loaded_x: random_test_features, loaded_y: random_test_labels, loaded_keep_prob: 1.0})\n",
    "        helper.display_image_predictions(random_test_features, random_test_labels, random_test_predictions)\n",
    "\n",
    "\n",
    "test_model()"
   ]
  },
  {
   "cell_type": "markdown",
   "metadata": {},
   "source": [
    "## Why 50-80% Accuracy?\n",
    "You might be wondering why you can't get an accuracy any higher. First things first, 50% isn't bad for a simple CNN.  Pure guessing would get you 10% accuracy."
   ]
  }
 ],
 "metadata": {
  "kernelspec": {
   "display_name": "Python 3",
   "language": "python",
   "name": "python3"
  },
  "language_info": {
   "codemirror_mode": {
    "name": "ipython",
    "version": 3
   },
   "file_extension": ".py",
   "mimetype": "text/x-python",
   "name": "python",
   "nbconvert_exporter": "python",
   "pygments_lexer": "ipython3",
   "version": "3.6.0"
  }
 },
 "nbformat": 4,
 "nbformat_minor": 1
}
