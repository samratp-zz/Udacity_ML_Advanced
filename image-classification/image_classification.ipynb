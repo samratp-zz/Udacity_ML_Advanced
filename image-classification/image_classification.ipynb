{
 "cells": [
  {
   "cell_type": "markdown",
   "metadata": {
    "collapsed": true
   },
   "source": [
    "# Image Classification\n",
    "In this project, you'll classify images from the [CIFAR-10 dataset](https://www.cs.toronto.edu/~kriz/cifar.html).  The dataset consists of airplanes, dogs, cats, and other objects. You'll preprocess the images, then train a convolutional neural network on all the samples. The images need to be normalized and the labels need to be one-hot encoded.  You'll get to apply what you learned and build a convolutional, max pooling, dropout, and fully connected layers.  At the end, you'll get to see your neural network's predictions on the sample images.\n",
    "## Get the Data\n",
    "Run the following cell to download the [CIFAR-10 dataset for python](https://www.cs.toronto.edu/~kriz/cifar-10-python.tar.gz)."
   ]
  },
  {
   "cell_type": "code",
   "execution_count": 1,
   "metadata": {},
   "outputs": [
    {
     "name": "stdout",
     "output_type": "stream",
     "text": [
      "All files found!\n"
     ]
    }
   ],
   "source": [
    "\"\"\"\n",
    "DON'T MODIFY ANYTHING IN THIS CELL THAT IS BELOW THIS LINE\n",
    "\"\"\"\n",
    "from urllib.request import urlretrieve\n",
    "from os.path import isfile, isdir\n",
    "from tqdm import tqdm\n",
    "import problem_unittests as tests\n",
    "import tarfile\n",
    "import matplotlib.pyplot as plt\n",
    "from sklearn.preprocessing import OneHotEncoder\n",
    "\n",
    "cifar10_dataset_folder_path = 'cifar-10-batches-py'\n",
    "\n",
    "class DLProgress(tqdm):\n",
    "    last_block = 0\n",
    "\n",
    "    def hook(self, block_num=1, block_size=1, total_size=None):\n",
    "        self.total = total_size\n",
    "        self.update((block_num - self.last_block) * block_size)\n",
    "        self.last_block = block_num\n",
    "\n",
    "if not isfile('cifar-10-python.tar.gz'):\n",
    "    with DLProgress(unit='B', unit_scale=True, miniters=1, desc='CIFAR-10 Dataset') as pbar:\n",
    "        urlretrieve(\n",
    "            'https://www.cs.toronto.edu/~kriz/cifar-10-python.tar.gz',\n",
    "            'cifar-10-python.tar.gz',\n",
    "            pbar.hook)\n",
    "\n",
    "if not isdir(cifar10_dataset_folder_path):\n",
    "    with tarfile.open('cifar-10-python.tar.gz') as tar:\n",
    "        tar.extractall()\n",
    "        tar.close()\n",
    "\n",
    "\n",
    "tests.test_folder_path(cifar10_dataset_folder_path)"
   ]
  },
  {
   "cell_type": "markdown",
   "metadata": {},
   "source": [
    "## Explore the Data\n",
    "The dataset is broken into batches to prevent your machine from running out of memory.  The CIFAR-10 dataset consists of 5 batches, named `data_batch_1`, `data_batch_2`, etc.. Each batch contains the labels and images that are one of the following:\n",
    "* airplane\n",
    "* automobile\n",
    "* bird\n",
    "* cat\n",
    "* deer\n",
    "* dog\n",
    "* frog\n",
    "* horse\n",
    "* ship\n",
    "* truck\n",
    "\n",
    "Understanding a dataset is part of making predictions on the data.  Play around with the code cell below by changing the `batch_id` and `sample_id`. The `batch_id` is the id for a batch (1-5). The `sample_id` is the id for a image and label pair in the batch.\n",
    "\n",
    "Ask yourself \"What are all possible labels?\", \"What is the range of values for the image data?\", \"Are the labels in order or random?\".  Answers to questions like these will help you preprocess the data and end up with better predictions."
   ]
  },
  {
   "cell_type": "code",
   "execution_count": 2,
   "metadata": {},
   "outputs": [
    {
     "name": "stdout",
     "output_type": "stream",
     "text": [
      "\n",
      "Stats of batch 5:\n",
      "Samples: 10000\n",
      "Label Counts: {0: 1014, 1: 1014, 2: 952, 3: 1016, 4: 997, 5: 1025, 6: 980, 7: 977, 8: 1003, 9: 1022}\n",
      "First 20 Labels: [1, 8, 5, 1, 5, 7, 4, 3, 8, 2, 7, 2, 0, 1, 5, 9, 6, 2, 0, 8]\n",
      "\n",
      "Example of Image 5:\n",
      "Image - Min Value: 1 Max Value: 255\n",
      "Image - Shape: (32, 32, 3)\n",
      "Label - Label Id: 7 Name: horse\n"
     ]
    },
    {
     "data": {
      "image/png": "[encoded data removed]",
      "text/plain": [
       "<matplotlib.figure.Figure at 0xdb7d278>"
      ]
     },
     "metadata": {
      "image/png": {
       "height": 250,
       "width": 253
      }
     },
     "output_type": "display_data"
    }
   ],
   "source": [
    "%matplotlib inline\n",
    "%config InlineBackend.figure_format = 'retina'\n",
    "\n",
    "import helper\n",
    "import numpy as np\n",
    "\n",
    "# Explore the dataset\n",
    "batch_id = 5\n",
    "sample_id = 5\n",
    "helper.display_stats(cifar10_dataset_folder_path, batch_id, sample_id)"
   ]
  },
  {
   "cell_type": "markdown",
   "metadata": {},
   "source": [
    "## Implement Preprocess Functions\n",
    "### Normalize\n",
    "In the cell below, implement the `normalize` function to take in image data, `x`, and return it as a normalized Numpy array. The values should be in the range of 0 to 1, inclusive.  The return object should be the same shape as `x`."
   ]
  },
  {
   "cell_type": "code",
   "execution_count": 3,
   "metadata": {},
   "outputs": [
    {
     "name": "stdout",
     "output_type": "stream",
     "text": [
      "Tests Passed\n"
     ]
    }
   ],
   "source": [
    "def normalize(x):\n",
    "    \"\"\"\n",
    "    Normalize a list of sample image data in the range of 0 to 1\n",
    "    : x: List of image data.  The image shape is (32, 32, 3)\n",
    "    : return: Numpy array of normalize data\n",
    "    \"\"\"\n",
    "    a_min = np.amin(x)\n",
    "    a_max = np.amax(x)\n",
    "    norm = np.array((x-a_min)/(a_max-a_min))\n",
    "    return norm\n",
    "\n",
    "\"\"\"\n",
    "DON'T MODIFY ANYTHING IN THIS CELL THAT IS BELOW THIS LINE\n",
    "\"\"\"\n",
    "tests.test_normalize(normalize)"
   ]
  },
  {
   "cell_type": "markdown",
   "metadata": {},
   "source": [
    "### One-hot encode\n",
    "Just like the previous code cell, you'll be implementing a function for preprocessing.  This time, you'll implement the `one_hot_encode` function. The input, `x`, are a list of labels.  Implement the function to return the list of labels as One-Hot encoded Numpy array.  The possible values for labels are 0 to 9. The one-hot encoding function should return the same encoding for each value between each call to `one_hot_encode`.  Make sure to save the map of encodings outside the function.\n",
    "\n",
    "**Hint:**\n",
    "\n",
    "Look into LabelBinarizer in the preprocessing module of sklearn."
   ]
  },
  {
   "cell_type": "code",
   "execution_count": 4,
   "metadata": {},
   "outputs": [
    {
     "name": "stdout",
     "output_type": "stream",
     "text": [
      "Tests Passed\n"
     ]
    }
   ],
   "source": [
    "N_VALUES = 10\n",
    "\n",
    "def one_hot_encode(x):\n",
    "    \"\"\"\n",
    "    One hot encode a list of sample labels. Return a one-hot encoded vector for each label.\n",
    "    : x: List of sample Labels\n",
    "    : return: Numpy array of one-hot encoded labels\n",
    "    \"\"\"\n",
    "    # TODO: Implement Function\n",
    "    #print(\"Labels => {}\".format(x))\n",
    "    encoder = OneHotEncoder(n_values=N_VALUES)\n",
    "    encoded_labels = encoder.fit_transform(np.array(x).reshape(-1, 1)).toarray()\n",
    "    #print(\"Encoded Labels => {}\".format(encoded_labels))\n",
    "    return encoded_labels\n",
    "\n",
    "\"\"\"\n",
    "DON'T MODIFY ANYTHING IN THIS CELL THAT IS BELOW THIS LINE\n",
    "\"\"\"\n",
    "tests.test_one_hot_encode(one_hot_encode)"
   ]
  },
  {
   "cell_type": "markdown",
   "metadata": {},
   "source": [
    "### Randomize Data\n",
    "As you saw from exploring the data above, the order of the samples are randomized.  It doesn't hurt to randomize it again, but you don't need to for this dataset."
   ]
  },
  {
   "cell_type": "markdown",
   "metadata": {},
   "source": [
    "## Preprocess all the data and save it\n",
    "Running the code cell below will preprocess all the CIFAR-10 data and save it to file. The code below also uses 10% of the training data for validation."
   ]
  },
  {
   "cell_type": "code",
   "execution_count": 5,
   "metadata": {},
   "outputs": [],
   "source": [
    "\"\"\"\n",
    "DON'T MODIFY ANYTHING IN THIS CELL\n",
    "\"\"\"\n",
    "# Preprocess Training, Validation, and Testing Data\n",
    "helper.preprocess_and_save_data(cifar10_dataset_folder_path, normalize, one_hot_encode)"
   ]
  },
  {
   "cell_type": "markdown",
   "metadata": {},
   "source": [
    "# Check Point\n",
    "This is your first checkpoint.  If you ever decide to come back to this notebook or have to restart the notebook, you can start from here.  The preprocessed data has been saved to disk."
   ]
  },
  {
   "cell_type": "code",
   "execution_count": 6,
   "metadata": {},
   "outputs": [],
   "source": [
    "\"\"\"\n",
    "DON'T MODIFY ANYTHING IN THIS CELL\n",
    "\"\"\"\n",
    "import pickle\n",
    "import problem_unittests as tests\n",
    "import helper\n",
    "\n",
    "# Load the Preprocessed Validation data\n",
    "valid_features, valid_labels = pickle.load(open('preprocess_validation.p', mode='rb'))"
   ]
  },
  {
   "cell_type": "markdown",
   "metadata": {},
   "source": [
    "## Build the network\n",
    "For the neural network, you'll build each layer into a function.  Most of the code you've seen has been outside of functions. To test your code more thoroughly, we require that you put each layer in a function.  This allows us to give you better feedback and test for simple mistakes using our unittests before you submit your project.\n",
    "\n",
    ">**Note:** If you're finding it hard to dedicate enough time for this course each week, we've provided a small shortcut to this part of the project. In the next couple of problems, you'll have the option to use classes from the [TensorFlow Layers](https://www.tensorflow.org/api_docs/python/tf/layers) or [TensorFlow Layers (contrib)](https://www.tensorflow.org/api_guides/python/contrib.layers) packages to build each layer, except the layers you build in the \"Convolutional and Max Pooling Layer\" section.  TF Layers is similar to Keras's and TFLearn's abstraction to layers, so it's easy to pickup.\n",
    "\n",
    ">However, if you would like to get the most out of this course, try to solve all the problems _without_ using anything from the TF Layers packages. You **can** still use classes from other packages that happen to have the same name as ones you find in TF Layers! For example, instead of using the TF Layers version of the `conv2d` class, [tf.layers.conv2d](https://www.tensorflow.org/api_docs/python/tf/layers/conv2d), you would want to use the TF Neural Network version of `conv2d`, [tf.nn.conv2d](https://www.tensorflow.org/api_docs/python/tf/nn/conv2d). \n",
    "\n",
    "Let's begin!\n",
    "\n",
    "### Input\n",
    "The neural network needs to read the image data, one-hot encoded labels, and dropout keep probability. Implement the following functions\n",
    "* Implement `neural_net_image_input`\n",
    " * Return a [TF Placeholder](https://www.tensorflow.org/api_docs/python/tf/placeholder)\n",
    " * Set the shape using `image_shape` with batch size set to `None`.\n",
    " * Name the TensorFlow placeholder \"x\" using the TensorFlow `name` parameter in the [TF Placeholder](https://www.tensorflow.org/api_docs/python/tf/placeholder).\n",
    "* Implement `neural_net_label_input`\n",
    " * Return a [TF Placeholder](https://www.tensorflow.org/api_docs/python/tf/placeholder)\n",
    " * Set the shape using `n_classes` with batch size set to `None`.\n",
    " * Name the TensorFlow placeholder \"y\" using the TensorFlow `name` parameter in the [TF Placeholder](https://www.tensorflow.org/api_docs/python/tf/placeholder).\n",
    "* Implement `neural_net_keep_prob_input`\n",
    " * Return a [TF Placeholder](https://www.tensorflow.org/api_docs/python/tf/placeholder) for dropout keep probability.\n",
    " * Name the TensorFlow placeholder \"keep_prob\" using the TensorFlow `name` parameter in the [TF Placeholder](https://www.tensorflow.org/api_docs/python/tf/placeholder).\n",
    "\n",
    "These names will be used at the end of the project to load your saved model.\n",
    "\n",
    "Note: `None` for shapes in TensorFlow allow for a dynamic size."
   ]
  },
  {
   "cell_type": "code",
   "execution_count": 34,
   "metadata": {},
   "outputs": [
    {
     "name": "stdout",
     "output_type": "stream",
     "text": [
      "Image Input Tests Passed.\n",
      "Label Input Tests Passed.\n",
      "Keep Prob Tests Passed.\n"
     ]
    }
   ],
   "source": [
    "import tensorflow as tf\n",
    "\n",
    "def neural_net_image_input(image_shape):\n",
    "    \"\"\"\n",
    "    Return a Tensor for a batch of image input\n",
    "    : image_shape: Shape of the images\n",
    "    : return: Tensor for image input.\n",
    "    \"\"\"\n",
    "    return tf.placeholder(tf.float32, [None, image_shape[0], image_shape[1], image_shape[2]], name='x')\n",
    "\n",
    "\n",
    "def neural_net_label_input(n_classes):\n",
    "    \"\"\"\n",
    "    Return a Tensor for a batch of label input\n",
    "    : n_classes: Number of classes\n",
    "    : return: Tensor for label input.\n",
    "    \"\"\"\n",
    "    return tf.placeholder(tf.float32, shape=[None, n_classes], name='y')\n",
    "\n",
    "\n",
    "def neural_net_keep_prob_input():\n",
    "    \"\"\"\n",
    "    Return a Tensor for keep probability\n",
    "    : return: Tensor for keep probability.\n",
    "    \"\"\"\n",
    "    return tf.placeholder(tf.float32, name='keep_prob')\n",
    "\n",
    "\n",
    "\"\"\"\n",
    "DON'T MODIFY ANYTHING IN THIS CELL THAT IS BELOW THIS LINE\n",
    "\"\"\"\n",
    "tf.reset_default_graph()\n",
    "tests.test_nn_image_inputs(neural_net_image_input)\n",
    "tests.test_nn_label_inputs(neural_net_label_input)\n",
    "tests.test_nn_keep_prob_inputs(neural_net_keep_prob_input)"
   ]
  },
  {
   "cell_type": "markdown",
   "metadata": {},
   "source": [
    "### Convolution and Max Pooling Layer\n",
    "Convolution layers have a lot of success with images. For this code cell, you should implement the function `conv2d_maxpool` to apply convolution then max pooling:\n",
    "* Create the weight and bias using `conv_ksize`, `conv_num_outputs` and the shape of `x_tensor`.\n",
    "* Apply a convolution to `x_tensor` using weight and `conv_strides`.\n",
    " * We recommend you use same padding, but you're welcome to use any padding.\n",
    "* Add bias\n",
    "* Add a nonlinear activation to the convolution.\n",
    "* Apply Max Pooling using `pool_ksize` and `pool_strides`.\n",
    " * We recommend you use same padding, but you're welcome to use any padding.\n",
    "\n",
    "**Note:** You **can't** use [TensorFlow Layers](https://www.tensorflow.org/api_docs/python/tf/layers) or [TensorFlow Layers (contrib)](https://www.tensorflow.org/api_guides/python/contrib.layers) for **this** layer, but you can still use TensorFlow's [Neural Network](https://www.tensorflow.org/api_docs/python/tf/nn) package. You may still use the shortcut option for all the **other** layers.\n",
    "\n",
    "** Hint: **\n",
    "\n",
    "When unpacking values as an argument in Python, look into the [unpacking](https://docs.python.org/3/tutorial/controlflow.html#unpacking-argument-lists) operator. "
   ]
  },
  {
   "cell_type": "code",
   "execution_count": 99,
   "metadata": {},
   "outputs": [
    {
     "name": "stdout",
     "output_type": "stream",
     "text": [
      "Tests Passed\n"
     ]
    }
   ],
   "source": [
    "def conv2d_maxpool(x_tensor, conv_num_outputs, conv_ksize, conv_strides, pool_ksize, pool_strides):\n",
    "    \"\"\"\n",
    "    Apply convolution then max pooling to x_tensor\n",
    "    :param x_tensor: TensorFlow Tensor\n",
    "    :param conv_num_outputs: Number of outputs for the convolutional layer\n",
    "    :param conv_ksize: kernal size 2-D Tuple for the convolutional layer\n",
    "    :param conv_strides: Stride 2-D Tuple for convolution\n",
    "    :param pool_ksize: kernal size 2-D Tuple for pool\n",
    "    :param pool_strides: Stride 2-D Tuple for pool\n",
    "    : return: A tensor that represents convolution and max pooling of x_tensor\n",
    "    \"\"\"\n",
    "    weight = tf.Variable(tf.random_normal([conv_ksize[0], conv_ksize[1],\n",
    "                                           x_tensor.get_shape().as_list()[-1], conv_num_outputs], stddev=.05))\n",
    "    bias   = tf.Variable(tf.zeros(conv_num_outputs))\n",
    "\n",
    "    conv2d_maxpool_tensor = tf.nn.conv2d(x_tensor, weight, strides=[1, conv_strides[0], conv_strides[1], 1], padding='SAME')\n",
    "    conv2d_maxpool_tensor = tf.nn.bias_add(conv2d_maxpool_tensor, bias)\n",
    "    conv2d_maxpool_tensor = tf.nn.relu(conv2d_maxpool_tensor)\n",
    "    conv2d_maxpool_tensor = tf.nn.max_pool(conv2d_maxpool_tensor, ksize=[1, pool_ksize[0], pool_ksize[1], 1],\n",
    "                                           strides=[1, pool_strides[0], pool_strides[1], 1], padding='SAME')\n",
    "\n",
    "    return conv2d_maxpool_tensor\n",
    "\n",
    "\n",
    "\"\"\"\n",
    "DON'T MODIFY ANYTHING IN THIS CELL THAT IS BELOW THIS LINE\n",
    "\"\"\"\n",
    "tests.test_con_pool(conv2d_maxpool)"
   ]
  },
  {
   "cell_type": "markdown",
   "metadata": {},
   "source": [
    "### Flatten Layer\n",
    "Implement the `flatten` function to change the dimension of `x_tensor` from a 4-D tensor to a 2-D tensor.  The output should be the shape (*Batch Size*, *Flattened Image Size*). Shortcut option: you can use classes from the [TensorFlow Layers](https://www.tensorflow.org/api_docs/python/tf/layers) or [TensorFlow Layers (contrib)](https://www.tensorflow.org/api_guides/python/contrib.layers) packages for this layer. For more of a challenge, only use other TensorFlow packages."
   ]
  },
  {
   "cell_type": "code",
   "execution_count": 100,
   "metadata": {},
   "outputs": [
    {
     "name": "stdout",
     "output_type": "stream",
     "text": [
      "Tests Passed\n"
     ]
    }
   ],
   "source": [
    "def flatten(x_tensor):\n",
    "    \"\"\"\n",
    "    Flatten x_tensor to (Batch Size, Flattened Image Size)\n",
    "    : x_tensor: A tensor of size (Batch Size, ...), where ... are the image dimensions.\n",
    "    : return: A tensor of size (Batch Size, Flattened Image Size).\n",
    "    \"\"\"\n",
    "    return tf.contrib.layers.flatten(x_tensor)\n",
    "\n",
    "\n",
    "\"\"\"\n",
    "DON'T MODIFY ANYTHING IN THIS CELL THAT IS BELOW THIS LINE\n",
    "\"\"\"\n",
    "tests.test_flatten(flatten)"
   ]
  },
  {
   "cell_type": "markdown",
   "metadata": {},
   "source": [
    "### Fully-Connected Layer\n",
    "Implement the `fully_conn` function to apply a fully connected layer to `x_tensor` with the shape (*Batch Size*, *num_outputs*). Shortcut option: you can use classes from the [TensorFlow Layers](https://www.tensorflow.org/api_docs/python/tf/layers) or [TensorFlow Layers (contrib)](https://www.tensorflow.org/api_guides/python/contrib.layers) packages for this layer. For more of a challenge, only use other TensorFlow packages."
   ]
  },
  {
   "cell_type": "code",
   "execution_count": 101,
   "metadata": {},
   "outputs": [
    {
     "name": "stdout",
     "output_type": "stream",
     "text": [
      "Tests Passed\n"
     ]
    }
   ],
   "source": [
    "def fully_conn(x_tensor, num_outputs):\n",
    "    \"\"\"\n",
    "    Apply a fully connected layer to x_tensor using weight and bias\n",
    "    : x_tensor: A 2-D tensor where the first dimension is batch size.\n",
    "    : num_outputs: The number of output that the new tensor should be.\n",
    "    : return: A 2-D tensor where the second dimension is num_outputs.\n",
    "    \"\"\"\n",
    "    return tf.contrib.layers.fully_connected(x_tensor, num_outputs)\n",
    "\n",
    "\n",
    "\"\"\"\n",
    "DON'T MODIFY ANYTHING IN THIS CELL THAT IS BELOW THIS LINE\n",
    "\"\"\"\n",
    "tests.test_fully_conn(fully_conn)"
   ]
  },
  {
   "cell_type": "markdown",
   "metadata": {},
   "source": [
    "### Output Layer\n",
    "Implement the `output` function to apply a fully connected layer to `x_tensor` with the shape (*Batch Size*, *num_outputs*). Shortcut option: you can use classes from the [TensorFlow Layers](https://www.tensorflow.org/api_docs/python/tf/layers) or [TensorFlow Layers (contrib)](https://www.tensorflow.org/api_guides/python/contrib.layers) packages for this layer. For more of a challenge, only use other TensorFlow packages.\n",
    "\n",
    "**Note:** Activation, softmax, or cross entropy should **not** be applied to this."
   ]
  },
  {
   "cell_type": "code",
   "execution_count": 102,
   "metadata": {},
   "outputs": [
    {
     "name": "stdout",
     "output_type": "stream",
     "text": [
      "Tests Passed\n"
     ]
    }
   ],
   "source": [
    "def output(x_tensor, num_outputs):\n",
    "    \"\"\"\n",
    "    Apply a output layer to x_tensor using weight and bias\n",
    "    : x_tensor: A 2-D tensor where the first dimension is batch size.\n",
    "    : num_outputs: The number of output that the new tensor should be.\n",
    "    : return: A 2-D tensor where the second dimension is num_outputs.\n",
    "    \"\"\"\n",
    "    return tf.contrib.layers.fully_connected(x_tensor, num_outputs)\n",
    "\n",
    "\n",
    "\"\"\"\n",
    "DON'T MODIFY ANYTHING IN THIS CELL THAT IS BELOW THIS LINE\n",
    "\"\"\"\n",
    "tests.test_output(output)"
   ]
  },
  {
   "cell_type": "markdown",
   "metadata": {},
   "source": [
    "### Create Convolutional Model\n",
    "Implement the function `conv_net` to create a convolutional neural network model. The function takes in a batch of images, `x`, and outputs logits.  Use the layers you created above to create this model:\n",
    "\n",
    "* Apply 1, 2, or 3 Convolution and Max Pool layers\n",
    "* Apply a Flatten Layer\n",
    "* Apply 1, 2, or 3 Fully Connected Layers\n",
    "* Apply an Output Layer\n",
    "* Return the output\n",
    "* Apply [TensorFlow's Dropout](https://www.tensorflow.org/api_docs/python/tf/nn/dropout) to one or more layers in the model using `keep_prob`. "
   ]
  },
  {
   "cell_type": "code",
   "execution_count": 123,
   "metadata": {},
   "outputs": [
    {
     "name": "stdout",
     "output_type": "stream",
     "text": [
      "Neural Network Built!\n"
     ]
    }
   ],
   "source": [
    "def conv_net(x, keep_prob):\n",
    "    \"\"\"\n",
    "    Create a convolutional neural network model\n",
    "    : x: Placeholder tensor that holds image data.\n",
    "    : keep_prob: Placeholder tensor that hold dropout keep probability.\n",
    "    : return: Tensor that represents logits\n",
    "    \"\"\"\n",
    "    # TODO: Apply 1, 2, or 3 Convolution and Max Pool layers\n",
    "    #    Play around with different number of outputs, kernel size and stride\n",
    "    # Function Definition from Above:\n",
    "    #    conv2d_maxpool(x_tensor, conv_num_outputs, conv_ksize, conv_strides, pool_ksize, pool_strides)\n",
    "    conv_layer = conv2d_maxpool(x, 32, (3,3), (1,1), (2,2), (2,2))\n",
    "    conv_layer = conv2d_maxpool(conv_layer, 64, (3,3), (1,1), (2,2), (2,2))\n",
    "    conv_layer = conv2d_maxpool(conv_layer, 128, (3,3), (1,1), (2,2), (2,2))\n",
    "\n",
    "    # TODO: Apply a Flatten Layer\n",
    "    # Function Definition from Above:\n",
    "    #   flatten(x_tensor)\n",
    "    flatten_layer = flatten(conv_layer)\n",
    "\n",
    "    # TODO: Apply 1, 2, or 3 Fully Connected Layers\n",
    "    #    Play around with different number of outputs\n",
    "    # Function Definition from Above:\n",
    "    #   fully_conn(x_tensor, num_outputs)\n",
    "    fully_conn_layer = fully_conn(flatten_layer, 128)\n",
    "    fully_conn_layer = fully_conn(flatten_layer, 64)\n",
    "    fully_conn_layer = fully_conn(flatten_layer, 32)\n",
    "    \n",
    "    \n",
    "    # TODO: Apply an Output Layer\n",
    "    #    Set this to the number of classes\n",
    "    # Function Definition from Above:\n",
    "    #   output(x_tensor, num_outputs)\n",
    "    output_layer = output(fully_conn_layer, 10)\n",
    "    \n",
    "    \n",
    "    return output_layer\n",
    "\n",
    "\n",
    "\"\"\"\n",
    "DON'T MODIFY ANYTHING IN THIS CELL THAT IS BELOW THIS LINE\n",
    "\"\"\"\n",
    "\n",
    "##############################\n",
    "## Build the Neural Network ##\n",
    "##############################\n",
    "\n",
    "# Remove previous weights, bias, inputs, etc..\n",
    "tf.reset_default_graph()\n",
    "\n",
    "# Inputs\n",
    "x = neural_net_image_input((32, 32, 3))\n",
    "y = neural_net_label_input(10)\n",
    "keep_prob = neural_net_keep_prob_input()\n",
    "\n",
    "# Model\n",
    "logits = conv_net(x, keep_prob)\n",
    "\n",
    "# Name logits Tensor, so that is can be loaded from disk after training\n",
    "logits = tf.identity(logits, name='logits')\n",
    "\n",
    "# Loss and Optimizer\n",
    "cost = tf.reduce_mean(tf.nn.softmax_cross_entropy_with_logits(logits=logits, labels=y))\n",
    "optimizer = tf.train.AdamOptimizer().minimize(cost)\n",
    "\n",
    "# Accuracy\n",
    "correct_pred = tf.equal(tf.argmax(logits, 1), tf.argmax(y, 1))\n",
    "accuracy = tf.reduce_mean(tf.cast(correct_pred, tf.float32), name='accuracy')\n",
    "\n",
    "tests.test_conv_net(conv_net)"
   ]
  },
  {
   "cell_type": "markdown",
   "metadata": {},
   "source": [
    "## Train the Neural Network\n",
    "### Single Optimization\n",
    "Implement the function `train_neural_network` to do a single optimization.  The optimization should use `optimizer` to optimize in `session` with a `feed_dict` of the following:\n",
    "* `x` for image input\n",
    "* `y` for labels\n",
    "* `keep_prob` for keep probability for dropout\n",
    "\n",
    "This function will be called for each batch, so `tf.global_variables_initializer()` has already been called.\n",
    "\n",
    "Note: Nothing needs to be returned. This function is only optimizing the neural network."
   ]
  },
  {
   "cell_type": "code",
   "execution_count": 124,
   "metadata": {},
   "outputs": [
    {
     "name": "stdout",
     "output_type": "stream",
     "text": [
      "Tests Passed\n"
     ]
    }
   ],
   "source": [
    "def train_neural_network(session, optimizer, keep_probability, feature_batch, label_batch):\n",
    "    \"\"\"\n",
    "    Optimize the session on a batch of images and labels\n",
    "    : session: Current TensorFlow session\n",
    "    : optimizer: TensorFlow optimizer function\n",
    "    : keep_probability: keep probability\n",
    "    : feature_batch: Batch of Numpy image data\n",
    "    : label_batch: Batch of Numpy label data\n",
    "    \"\"\"\n",
    "    session.run(optimizer, feed_dict={x:feature_batch, y:label_batch, keep_prob:keep_probability})\n",
    "\n",
    "\n",
    "\"\"\"\n",
    "DON'T MODIFY ANYTHING IN THIS CELL THAT IS BELOW THIS LINE\n",
    "\"\"\"\n",
    "tests.test_train_nn(train_neural_network)"
   ]
  },
  {
   "cell_type": "markdown",
   "metadata": {},
   "source": [
    "### Show Stats\n",
    "Implement the function `print_stats` to print loss and validation accuracy.  Use the global variables `valid_features` and `valid_labels` to calculate validation accuracy.  Use a keep probability of `1.0` to calculate the loss and validation accuracy."
   ]
  },
  {
   "cell_type": "code",
   "execution_count": 125,
   "metadata": {},
   "outputs": [],
   "source": [
    "def print_stats(session, feature_batch, label_batch, cost, accuracy):\n",
    "    \"\"\"\n",
    "    Print information about loss and validation accuracy\n",
    "    : session: Current TensorFlow session\n",
    "    : feature_batch: Batch of Numpy image data\n",
    "    : label_batch: Batch of Numpy label data\n",
    "    : cost: TensorFlow cost function\n",
    "    : accuracy: TensorFlow accuracy function\n",
    "    \"\"\"\n",
    "    loss = session.run(cost, feed_dict={x:feature_batch, y:label_batch, keep_prob:1.0}) \n",
    "    valid_acc = session.run(accuracy, feed_dict={x:valid_features, y:valid_labels, keep_prob:1.0})\n",
    "    print('Loss: {:.5f} | Validation Accuracy: {:.5f}'.format(loss, valid_acc))"
   ]
  },
  {
   "cell_type": "markdown",
   "metadata": {},
   "source": [
    "### Hyperparameters\n",
    "Tune the following parameters:\n",
    "* Set `epochs` to the number of iterations until the network stops learning or start overfitting\n",
    "* Set `batch_size` to the highest number that your machine has memory for.  Most people set them to common sizes of memory:\n",
    " * 64\n",
    " * 128\n",
    " * 256\n",
    " * ...\n",
    "* Set `keep_probability` to the probability of keeping a node using dropout"
   ]
  },
  {
   "cell_type": "code",
   "execution_count": 126,
   "metadata": {},
   "outputs": [],
   "source": [
    "# Tune Parameters\n",
    "epochs = 40\n",
    "batch_size = 1024\n",
    "keep_probability = 0.6"
   ]
  },
  {
   "cell_type": "markdown",
   "metadata": {},
   "source": [
    "### Train on a Single CIFAR-10 Batch\n",
    "Instead of training the neural network on all the CIFAR-10 batches of data, let's use a single batch. This should save time while you iterate on the model to get a better accuracy.  Once the final validation accuracy is 50% or greater, run the model on all the data in the next section."
   ]
  },
  {
   "cell_type": "code",
   "execution_count": 127,
   "metadata": {},
   "outputs": [
    {
     "name": "stdout",
     "output_type": "stream",
     "text": [
      "Checking the Training on a Single Batch...\n",
      "Epoch  1, CIFAR-10 Batch 1:  Loss: 2.25620 | Validation Accuracy: 0.18480\n",
      "Epoch  2, CIFAR-10 Batch 1:  Loss: 2.16814 | Validation Accuracy: 0.22660\n",
      "Epoch  3, CIFAR-10 Batch 1:  Loss: 2.10093 | Validation Accuracy: 0.25060\n",
      "Epoch  4, CIFAR-10 Batch 1:  Loss: 2.05602 | Validation Accuracy: 0.28360\n",
      "Epoch  5, CIFAR-10 Batch 1:  Loss: 2.02893 | Validation Accuracy: 0.30100\n",
      "Epoch  6, CIFAR-10 Batch 1:  Loss: 1.94606 | Validation Accuracy: 0.34260\n",
      "Epoch  7, CIFAR-10 Batch 1:  Loss: 1.89289 | Validation Accuracy: 0.36300\n",
      "Epoch  8, CIFAR-10 Batch 1:  Loss: 1.85541 | Validation Accuracy: 0.35620\n",
      "Epoch  9, CIFAR-10 Batch 1:  Loss: 1.75428 | Validation Accuracy: 0.37460\n",
      "Epoch 10, CIFAR-10 Batch 1:  Loss: 1.71054 | Validation Accuracy: 0.38340\n",
      "Epoch 11, CIFAR-10 Batch 1:  Loss: 1.67165 | Validation Accuracy: 0.39660\n",
      "Epoch 12, CIFAR-10 Batch 1:  Loss: 1.63842 | Validation Accuracy: 0.40540\n",
      "Epoch 13, CIFAR-10 Batch 1:  Loss: 1.59916 | Validation Accuracy: 0.41680\n",
      "Epoch 14, CIFAR-10 Batch 1:  Loss: 1.53649 | Validation Accuracy: 0.44340\n",
      "Epoch 15, CIFAR-10 Batch 1:  Loss: 1.46607 | Validation Accuracy: 0.46480\n",
      "Epoch 16, CIFAR-10 Batch 1:  Loss: 1.42513 | Validation Accuracy: 0.47700\n",
      "Epoch 17, CIFAR-10 Batch 1:  Loss: 1.41130 | Validation Accuracy: 0.46660\n",
      "Epoch 18, CIFAR-10 Batch 1:  Loss: 1.34013 | Validation Accuracy: 0.50420\n",
      "Epoch 19, CIFAR-10 Batch 1:  Loss: 1.32432 | Validation Accuracy: 0.50080\n",
      "Epoch 20, CIFAR-10 Batch 1:  Loss: 1.28897 | Validation Accuracy: 0.50840\n",
      "Epoch 21, CIFAR-10 Batch 1:  Loss: 1.26946 | Validation Accuracy: 0.50840\n",
      "Epoch 22, CIFAR-10 Batch 1:  Loss: 1.27685 | Validation Accuracy: 0.49860\n",
      "Epoch 23, CIFAR-10 Batch 1:  Loss: 1.22392 | Validation Accuracy: 0.51960\n",
      "Epoch 24, CIFAR-10 Batch 1:  Loss: 1.19490 | Validation Accuracy: 0.52280\n",
      "Epoch 25, CIFAR-10 Batch 1:  Loss: 1.17091 | Validation Accuracy: 0.52740\n",
      "Epoch 26, CIFAR-10 Batch 1:  Loss: 1.15228 | Validation Accuracy: 0.52720\n",
      "Epoch 27, CIFAR-10 Batch 1:  Loss: 1.14513 | Validation Accuracy: 0.53000\n",
      "Epoch 28, CIFAR-10 Batch 1:  Loss: 1.11494 | Validation Accuracy: 0.53920\n",
      "Epoch 29, CIFAR-10 Batch 1:  Loss: 1.09721 | Validation Accuracy: 0.53480\n",
      "Epoch 30, CIFAR-10 Batch 1:  Loss: 1.07058 | Validation Accuracy: 0.54960\n",
      "Epoch 31, CIFAR-10 Batch 1:  Loss: 1.05003 | Validation Accuracy: 0.55580\n",
      "Epoch 32, CIFAR-10 Batch 1:  Loss: 1.04166 | Validation Accuracy: 0.55060\n",
      "Epoch 33, CIFAR-10 Batch 1:  Loss: 1.05347 | Validation Accuracy: 0.54780\n",
      "Epoch 34, CIFAR-10 Batch 1:  Loss: 1.03012 | Validation Accuracy: 0.55460\n",
      "Epoch 35, CIFAR-10 Batch 1:  Loss: 0.99985 | Validation Accuracy: 0.55840\n",
      "Epoch 36, CIFAR-10 Batch 1:  Loss: 0.98021 | Validation Accuracy: 0.56280\n",
      "Epoch 37, CIFAR-10 Batch 1:  Loss: 0.95700 | Validation Accuracy: 0.56600\n",
      "Epoch 38, CIFAR-10 Batch 1:  Loss: 0.94647 | Validation Accuracy: 0.56880\n",
      "Epoch 39, CIFAR-10 Batch 1:  Loss: 0.96449 | Validation Accuracy: 0.56520\n",
      "Epoch 40, CIFAR-10 Batch 1:  Loss: 0.95431 | Validation Accuracy: 0.56340\n"
     ]
    }
   ],
   "source": [
    "\"\"\"\n",
    "DON'T MODIFY ANYTHING IN THIS CELL\n",
    "\"\"\"\n",
    "print('Checking the Training on a Single Batch...')\n",
    "with tf.Session() as sess:\n",
    "    # Initializing the variables\n",
    "    sess.run(tf.global_variables_initializer())\n",
    "    \n",
    "    # Training cycle\n",
    "    for epoch in range(epochs):\n",
    "        batch_i = 1\n",
    "        for batch_features, batch_labels in helper.load_preprocess_training_batch(batch_i, batch_size):\n",
    "            train_neural_network(sess, optimizer, keep_probability, batch_features, batch_labels)\n",
    "        print('Epoch {:>2}, CIFAR-10 Batch {}:  '.format(epoch + 1, batch_i), end='')\n",
    "        print_stats(sess, batch_features, batch_labels, cost, accuracy)"
   ]
  },
  {
   "cell_type": "markdown",
   "metadata": {},
   "source": [
    "### Fully Train the Model\n",
    "Now that you got a good accuracy with a single CIFAR-10 batch, try it with all five batches."
   ]
  },
  {
   "cell_type": "code",
   "execution_count": 128,
   "metadata": {},
   "outputs": [
    {
     "name": "stdout",
     "output_type": "stream",
     "text": [
      "Training...\n",
      "Epoch  1, CIFAR-10 Batch 1:  Loss: 2.23993 | Validation Accuracy: 0.19200\n",
      "Epoch  1, CIFAR-10 Batch 2:  Loss: 2.15981 | Validation Accuracy: 0.24160\n",
      "Epoch  1, CIFAR-10 Batch 3:  Loss: 2.07740 | Validation Accuracy: 0.26800\n",
      "Epoch  1, CIFAR-10 Batch 4:  Loss: 1.99329 | Validation Accuracy: 0.28400\n",
      "Epoch  1, CIFAR-10 Batch 5:  Loss: 1.94356 | Validation Accuracy: 0.31220\n",
      "Epoch  2, CIFAR-10 Batch 1:  Loss: 1.95325 | Validation Accuracy: 0.31880\n",
      "Epoch  2, CIFAR-10 Batch 2:  Loss: 1.86724 | Validation Accuracy: 0.33400\n",
      "Epoch  2, CIFAR-10 Batch 3:  Loss: 1.74828 | Validation Accuracy: 0.35620\n",
      "Epoch  2, CIFAR-10 Batch 4:  Loss: 1.65863 | Validation Accuracy: 0.39040\n",
      "Epoch  2, CIFAR-10 Batch 5:  Loss: 1.65096 | Validation Accuracy: 0.40780\n",
      "Epoch  3, CIFAR-10 Batch 1:  Loss: 1.63104 | Validation Accuracy: 0.41160\n",
      "Epoch  3, CIFAR-10 Batch 2:  Loss: 1.65228 | Validation Accuracy: 0.40700\n",
      "Epoch  3, CIFAR-10 Batch 3:  Loss: 1.54745 | Validation Accuracy: 0.41600\n",
      "Epoch  3, CIFAR-10 Batch 4:  Loss: 1.46433 | Validation Accuracy: 0.45000\n",
      "Epoch  3, CIFAR-10 Batch 5:  Loss: 1.48454 | Validation Accuracy: 0.44660\n",
      "Epoch  4, CIFAR-10 Batch 1:  Loss: 1.47211 | Validation Accuracy: 0.46120\n",
      "Epoch  4, CIFAR-10 Batch 2:  Loss: 1.47501 | Validation Accuracy: 0.45020\n",
      "Epoch  4, CIFAR-10 Batch 3:  Loss: 1.41460 | Validation Accuracy: 0.45420\n",
      "Epoch  4, CIFAR-10 Batch 4:  Loss: 1.37687 | Validation Accuracy: 0.47560\n",
      "Epoch  4, CIFAR-10 Batch 5:  Loss: 1.37556 | Validation Accuracy: 0.48880\n",
      "Epoch  5, CIFAR-10 Batch 1:  Loss: 1.38054 | Validation Accuracy: 0.48840\n",
      "Epoch  5, CIFAR-10 Batch 2:  Loss: 1.40659 | Validation Accuracy: 0.49280\n",
      "Epoch  5, CIFAR-10 Batch 3:  Loss: 1.32317 | Validation Accuracy: 0.50060\n",
      "Epoch  5, CIFAR-10 Batch 4:  Loss: 1.29069 | Validation Accuracy: 0.51500\n",
      "Epoch  5, CIFAR-10 Batch 5:  Loss: 1.29529 | Validation Accuracy: 0.51880\n",
      "Epoch  6, CIFAR-10 Batch 1:  Loss: 1.32274 | Validation Accuracy: 0.50520\n",
      "Epoch  6, CIFAR-10 Batch 2:  Loss: 1.32626 | Validation Accuracy: 0.52580\n",
      "Epoch  6, CIFAR-10 Batch 3:  Loss: 1.26253 | Validation Accuracy: 0.52140\n",
      "Epoch  6, CIFAR-10 Batch 4:  Loss: 1.24474 | Validation Accuracy: 0.53840\n",
      "Epoch  6, CIFAR-10 Batch 5:  Loss: 1.22768 | Validation Accuracy: 0.54440\n",
      "Epoch  7, CIFAR-10 Batch 1:  Loss: 1.25388 | Validation Accuracy: 0.53300\n",
      "Epoch  7, CIFAR-10 Batch 2:  Loss: 1.25143 | Validation Accuracy: 0.54820\n",
      "Epoch  7, CIFAR-10 Batch 3:  Loss: 1.20304 | Validation Accuracy: 0.54580\n",
      "Epoch  7, CIFAR-10 Batch 4:  Loss: 1.18790 | Validation Accuracy: 0.55620\n",
      "Epoch  7, CIFAR-10 Batch 5:  Loss: 1.17801 | Validation Accuracy: 0.55660\n",
      "Epoch  8, CIFAR-10 Batch 1:  Loss: 1.20511 | Validation Accuracy: 0.55160\n",
      "Epoch  8, CIFAR-10 Batch 2:  Loss: 1.18737 | Validation Accuracy: 0.56340\n",
      "Epoch  8, CIFAR-10 Batch 3:  Loss: 1.16157 | Validation Accuracy: 0.55940\n",
      "Epoch  8, CIFAR-10 Batch 4:  Loss: 1.14186 | Validation Accuracy: 0.57840\n",
      "Epoch  8, CIFAR-10 Batch 5:  Loss: 1.13038 | Validation Accuracy: 0.57620\n",
      "Epoch  9, CIFAR-10 Batch 1:  Loss: 1.13316 | Validation Accuracy: 0.58440\n",
      "Epoch  9, CIFAR-10 Batch 2:  Loss: 1.13772 | Validation Accuracy: 0.58720\n",
      "Epoch  9, CIFAR-10 Batch 3:  Loss: 1.10451 | Validation Accuracy: 0.57920\n",
      "Epoch  9, CIFAR-10 Batch 4:  Loss: 1.09166 | Validation Accuracy: 0.58960\n",
      "Epoch  9, CIFAR-10 Batch 5:  Loss: 1.08637 | Validation Accuracy: 0.59140\n",
      "Epoch 10, CIFAR-10 Batch 1:  Loss: 1.10248 | Validation Accuracy: 0.59280\n",
      "Epoch 10, CIFAR-10 Batch 2:  Loss: 1.10140 | Validation Accuracy: 0.59420\n",
      "Epoch 10, CIFAR-10 Batch 3:  Loss: 1.08097 | Validation Accuracy: 0.58360\n",
      "Epoch 10, CIFAR-10 Batch 4:  Loss: 1.05608 | Validation Accuracy: 0.60220\n",
      "Epoch 10, CIFAR-10 Batch 5:  Loss: 1.05039 | Validation Accuracy: 0.60560\n",
      "Epoch 11, CIFAR-10 Batch 1:  Loss: 1.06819 | Validation Accuracy: 0.60700\n",
      "Epoch 11, CIFAR-10 Batch 2:  Loss: 1.05555 | Validation Accuracy: 0.61100\n",
      "Epoch 11, CIFAR-10 Batch 3:  Loss: 1.04729 | Validation Accuracy: 0.59660\n",
      "Epoch 11, CIFAR-10 Batch 4:  Loss: 1.02181 | Validation Accuracy: 0.60940\n",
      "Epoch 11, CIFAR-10 Batch 5:  Loss: 1.01397 | Validation Accuracy: 0.61740\n",
      "Epoch 12, CIFAR-10 Batch 1:  Loss: 1.04470 | Validation Accuracy: 0.61540\n",
      "Epoch 12, CIFAR-10 Batch 2:  Loss: 1.02704 | Validation Accuracy: 0.61640\n",
      "Epoch 12, CIFAR-10 Batch 3:  Loss: 1.00672 | Validation Accuracy: 0.61240\n",
      "Epoch 12, CIFAR-10 Batch 4:  Loss: 0.98014 | Validation Accuracy: 0.62760\n",
      "Epoch 12, CIFAR-10 Batch 5:  Loss: 0.98155 | Validation Accuracy: 0.62460\n",
      "Epoch 13, CIFAR-10 Batch 1:  Loss: 1.02864 | Validation Accuracy: 0.62020\n",
      "Epoch 13, CIFAR-10 Batch 2:  Loss: 1.00532 | Validation Accuracy: 0.62300\n",
      "Epoch 13, CIFAR-10 Batch 3:  Loss: 0.99179 | Validation Accuracy: 0.61520\n",
      "Epoch 13, CIFAR-10 Batch 4:  Loss: 0.95874 | Validation Accuracy: 0.63240\n",
      "Epoch 13, CIFAR-10 Batch 5:  Loss: 0.95424 | Validation Accuracy: 0.63520\n",
      "Epoch 14, CIFAR-10 Batch 1:  Loss: 0.99828 | Validation Accuracy: 0.62740\n",
      "Epoch 14, CIFAR-10 Batch 2:  Loss: 0.97962 | Validation Accuracy: 0.63180\n",
      "Epoch 14, CIFAR-10 Batch 3:  Loss: 0.95779 | Validation Accuracy: 0.62300\n",
      "Epoch 14, CIFAR-10 Batch 4:  Loss: 0.92940 | Validation Accuracy: 0.64320\n",
      "Epoch 14, CIFAR-10 Batch 5:  Loss: 0.92802 | Validation Accuracy: 0.64260\n",
      "Epoch 15, CIFAR-10 Batch 1:  Loss: 0.97959 | Validation Accuracy: 0.63500\n",
      "Epoch 15, CIFAR-10 Batch 2:  Loss: 0.96394 | Validation Accuracy: 0.63520\n",
      "Epoch 15, CIFAR-10 Batch 3:  Loss: 0.93256 | Validation Accuracy: 0.63420\n",
      "Epoch 15, CIFAR-10 Batch 4:  Loss: 0.91317 | Validation Accuracy: 0.64540\n",
      "Epoch 15, CIFAR-10 Batch 5:  Loss: 0.90419 | Validation Accuracy: 0.65260\n",
      "Epoch 16, CIFAR-10 Batch 1:  Loss: 0.94399 | Validation Accuracy: 0.64920\n",
      "Epoch 16, CIFAR-10 Batch 2:  Loss: 0.93628 | Validation Accuracy: 0.64460\n",
      "Epoch 16, CIFAR-10 Batch 3:  Loss: 0.90300 | Validation Accuracy: 0.64240\n",
      "Epoch 16, CIFAR-10 Batch 4:  Loss: 0.89006 | Validation Accuracy: 0.65200\n",
      "Epoch 16, CIFAR-10 Batch 5:  Loss: 0.88618 | Validation Accuracy: 0.65880\n",
      "Epoch 17, CIFAR-10 Batch 1:  Loss: 0.92888 | Validation Accuracy: 0.65220\n",
      "Epoch 17, CIFAR-10 Batch 2:  Loss: 0.91630 | Validation Accuracy: 0.65000\n",
      "Epoch 17, CIFAR-10 Batch 3:  Loss: 0.86739 | Validation Accuracy: 0.65640\n",
      "Epoch 17, CIFAR-10 Batch 4:  Loss: 0.87362 | Validation Accuracy: 0.65220\n",
      "Epoch 17, CIFAR-10 Batch 5:  Loss: 0.87244 | Validation Accuracy: 0.66260\n",
      "Epoch 18, CIFAR-10 Batch 1:  Loss: 0.91776 | Validation Accuracy: 0.65060\n",
      "Epoch 18, CIFAR-10 Batch 2:  Loss: 0.90573 | Validation Accuracy: 0.64840\n",
      "Epoch 18, CIFAR-10 Batch 3:  Loss: 0.84694 | Validation Accuracy: 0.66440\n",
      "Epoch 18, CIFAR-10 Batch 4:  Loss: 0.84265 | Validation Accuracy: 0.66100\n",
      "Epoch 18, CIFAR-10 Batch 5:  Loss: 0.84269 | Validation Accuracy: 0.66640\n",
      "Epoch 19, CIFAR-10 Batch 1:  Loss: 0.90050 | Validation Accuracy: 0.65600\n",
      "Epoch 19, CIFAR-10 Batch 2:  Loss: 0.88344 | Validation Accuracy: 0.65880\n",
      "Epoch 19, CIFAR-10 Batch 3:  Loss: 0.84643 | Validation Accuracy: 0.66160\n",
      "Epoch 19, CIFAR-10 Batch 4:  Loss: 0.82043 | Validation Accuracy: 0.66820\n",
      "Epoch 19, CIFAR-10 Batch 5:  Loss: 0.82781 | Validation Accuracy: 0.67060\n",
      "Epoch 20, CIFAR-10 Batch 1:  Loss: 0.86971 | Validation Accuracy: 0.66720\n",
      "Epoch 20, CIFAR-10 Batch 2:  Loss: 0.85622 | Validation Accuracy: 0.66080\n",
      "Epoch 20, CIFAR-10 Batch 3:  Loss: 0.82619 | Validation Accuracy: 0.66500\n",
      "Epoch 20, CIFAR-10 Batch 4:  Loss: 0.80310 | Validation Accuracy: 0.67460\n",
      "Epoch 20, CIFAR-10 Batch 5:  Loss: 0.80903 | Validation Accuracy: 0.67460\n",
      "Epoch 21, CIFAR-10 Batch 1:  Loss: 0.84703 | Validation Accuracy: 0.67400\n",
      "Epoch 21, CIFAR-10 Batch 2:  Loss: 0.83667 | Validation Accuracy: 0.66840\n",
      "Epoch 21, CIFAR-10 Batch 3:  Loss: 0.79846 | Validation Accuracy: 0.67180\n",
      "Epoch 21, CIFAR-10 Batch 4:  Loss: 0.78363 | Validation Accuracy: 0.67940\n",
      "Epoch 21, CIFAR-10 Batch 5:  Loss: 0.78834 | Validation Accuracy: 0.67740\n",
      "Epoch 22, CIFAR-10 Batch 1:  Loss: 0.82702 | Validation Accuracy: 0.67880\n",
      "Epoch 22, CIFAR-10 Batch 2:  Loss: 0.81565 | Validation Accuracy: 0.67360\n",
      "Epoch 22, CIFAR-10 Batch 3:  Loss: 0.77793 | Validation Accuracy: 0.67860\n",
      "Epoch 22, CIFAR-10 Batch 4:  Loss: 0.76706 | Validation Accuracy: 0.68300\n",
      "Epoch 22, CIFAR-10 Batch 5:  Loss: 0.76916 | Validation Accuracy: 0.68300\n"
     ]
    },
    {
     "name": "stdout",
     "output_type": "stream",
     "text": [
      "Epoch 23, CIFAR-10 Batch 1:  Loss: 0.80697 | Validation Accuracy: 0.68140\n",
      "Epoch 23, CIFAR-10 Batch 2:  Loss: 0.79489 | Validation Accuracy: 0.68000\n",
      "Epoch 23, CIFAR-10 Batch 3:  Loss: 0.75927 | Validation Accuracy: 0.68220\n",
      "Epoch 23, CIFAR-10 Batch 4:  Loss: 0.75073 | Validation Accuracy: 0.68640\n",
      "Epoch 23, CIFAR-10 Batch 5:  Loss: 0.75142 | Validation Accuracy: 0.68660\n",
      "Epoch 24, CIFAR-10 Batch 1:  Loss: 0.78940 | Validation Accuracy: 0.68120\n",
      "Epoch 24, CIFAR-10 Batch 2:  Loss: 0.77638 | Validation Accuracy: 0.68320\n",
      "Epoch 24, CIFAR-10 Batch 3:  Loss: 0.74227 | Validation Accuracy: 0.68740\n",
      "Epoch 24, CIFAR-10 Batch 4:  Loss: 0.73664 | Validation Accuracy: 0.68920\n",
      "Epoch 24, CIFAR-10 Batch 5:  Loss: 0.73484 | Validation Accuracy: 0.69240\n",
      "Epoch 25, CIFAR-10 Batch 1:  Loss: 0.77044 | Validation Accuracy: 0.68440\n",
      "Epoch 25, CIFAR-10 Batch 2:  Loss: 0.76058 | Validation Accuracy: 0.68760\n",
      "Epoch 25, CIFAR-10 Batch 3:  Loss: 0.72471 | Validation Accuracy: 0.69140\n",
      "Epoch 25, CIFAR-10 Batch 4:  Loss: 0.72156 | Validation Accuracy: 0.69200\n",
      "Epoch 25, CIFAR-10 Batch 5:  Loss: 0.71843 | Validation Accuracy: 0.69600\n",
      "Epoch 26, CIFAR-10 Batch 1:  Loss: 0.75197 | Validation Accuracy: 0.68840\n",
      "Epoch 26, CIFAR-10 Batch 2:  Loss: 0.74452 | Validation Accuracy: 0.69140\n",
      "Epoch 26, CIFAR-10 Batch 3:  Loss: 0.71058 | Validation Accuracy: 0.69400\n",
      "Epoch 26, CIFAR-10 Batch 4:  Loss: 0.70738 | Validation Accuracy: 0.69300\n",
      "Epoch 26, CIFAR-10 Batch 5:  Loss: 0.70406 | Validation Accuracy: 0.69680\n",
      "Epoch 27, CIFAR-10 Batch 1:  Loss: 0.73353 | Validation Accuracy: 0.69440\n",
      "Epoch 27, CIFAR-10 Batch 2:  Loss: 0.72960 | Validation Accuracy: 0.69520\n",
      "Epoch 27, CIFAR-10 Batch 3:  Loss: 0.69760 | Validation Accuracy: 0.69700\n",
      "Epoch 27, CIFAR-10 Batch 4:  Loss: 0.69431 | Validation Accuracy: 0.69420\n",
      "Epoch 27, CIFAR-10 Batch 5:  Loss: 0.68973 | Validation Accuracy: 0.70040\n",
      "Epoch 28, CIFAR-10 Batch 1:  Loss: 0.71700 | Validation Accuracy: 0.69540\n",
      "Epoch 28, CIFAR-10 Batch 2:  Loss: 0.71425 | Validation Accuracy: 0.69960\n",
      "Epoch 28, CIFAR-10 Batch 3:  Loss: 0.68479 | Validation Accuracy: 0.70160\n",
      "Epoch 28, CIFAR-10 Batch 4:  Loss: 0.68217 | Validation Accuracy: 0.69360\n",
      "Epoch 28, CIFAR-10 Batch 5:  Loss: 0.67654 | Validation Accuracy: 0.70040\n",
      "Epoch 29, CIFAR-10 Batch 1:  Loss: 0.70202 | Validation Accuracy: 0.69800\n",
      "Epoch 29, CIFAR-10 Batch 2:  Loss: 0.70081 | Validation Accuracy: 0.70040\n",
      "Epoch 29, CIFAR-10 Batch 3:  Loss: 0.67415 | Validation Accuracy: 0.70280\n",
      "Epoch 29, CIFAR-10 Batch 4:  Loss: 0.67036 | Validation Accuracy: 0.69580\n",
      "Epoch 29, CIFAR-10 Batch 5:  Loss: 0.66566 | Validation Accuracy: 0.69920\n",
      "Epoch 30, CIFAR-10 Batch 1:  Loss: 0.68701 | Validation Accuracy: 0.69980\n",
      "Epoch 30, CIFAR-10 Batch 2:  Loss: 0.68558 | Validation Accuracy: 0.70320\n",
      "Epoch 30, CIFAR-10 Batch 3:  Loss: 0.66166 | Validation Accuracy: 0.70380\n",
      "Epoch 30, CIFAR-10 Batch 4:  Loss: 0.65718 | Validation Accuracy: 0.69680\n",
      "Epoch 30, CIFAR-10 Batch 5:  Loss: 0.65423 | Validation Accuracy: 0.70040\n",
      "Epoch 31, CIFAR-10 Batch 1:  Loss: 0.67276 | Validation Accuracy: 0.70180\n",
      "Epoch 31, CIFAR-10 Batch 2:  Loss: 0.67130 | Validation Accuracy: 0.70520\n",
      "Epoch 31, CIFAR-10 Batch 3:  Loss: 0.64938 | Validation Accuracy: 0.70640\n",
      "Epoch 31, CIFAR-10 Batch 4:  Loss: 0.64468 | Validation Accuracy: 0.69820\n",
      "Epoch 31, CIFAR-10 Batch 5:  Loss: 0.64432 | Validation Accuracy: 0.70060\n",
      "Epoch 32, CIFAR-10 Batch 1:  Loss: 0.65913 | Validation Accuracy: 0.70400\n",
      "Epoch 32, CIFAR-10 Batch 2:  Loss: 0.65644 | Validation Accuracy: 0.70740\n",
      "Epoch 32, CIFAR-10 Batch 3:  Loss: 0.63797 | Validation Accuracy: 0.70860\n",
      "Epoch 32, CIFAR-10 Batch 4:  Loss: 0.63320 | Validation Accuracy: 0.69620\n",
      "Epoch 32, CIFAR-10 Batch 5:  Loss: 0.63334 | Validation Accuracy: 0.70180\n",
      "Epoch 33, CIFAR-10 Batch 1:  Loss: 0.64692 | Validation Accuracy: 0.70520\n",
      "Epoch 33, CIFAR-10 Batch 2:  Loss: 0.64459 | Validation Accuracy: 0.70760\n",
      "Epoch 33, CIFAR-10 Batch 3:  Loss: 0.62592 | Validation Accuracy: 0.71240\n",
      "Epoch 33, CIFAR-10 Batch 4:  Loss: 0.62408 | Validation Accuracy: 0.69580\n",
      "Epoch 33, CIFAR-10 Batch 5:  Loss: 0.61973 | Validation Accuracy: 0.70500\n",
      "Epoch 34, CIFAR-10 Batch 1:  Loss: 0.63466 | Validation Accuracy: 0.70720\n",
      "Epoch 34, CIFAR-10 Batch 2:  Loss: 0.63166 | Validation Accuracy: 0.70880\n",
      "Epoch 34, CIFAR-10 Batch 3:  Loss: 0.61401 | Validation Accuracy: 0.71360\n",
      "Epoch 34, CIFAR-10 Batch 4:  Loss: 0.61007 | Validation Accuracy: 0.69860\n",
      "Epoch 34, CIFAR-10 Batch 5:  Loss: 0.60825 | Validation Accuracy: 0.70540\n",
      "Epoch 35, CIFAR-10 Batch 1:  Loss: 0.62057 | Validation Accuracy: 0.70600\n",
      "Epoch 35, CIFAR-10 Batch 2:  Loss: 0.62111 | Validation Accuracy: 0.71020\n",
      "Epoch 35, CIFAR-10 Batch 3:  Loss: 0.60425 | Validation Accuracy: 0.71620\n",
      "Epoch 35, CIFAR-10 Batch 4:  Loss: 0.59400 | Validation Accuracy: 0.70140\n",
      "Epoch 35, CIFAR-10 Batch 5:  Loss: 0.59690 | Validation Accuracy: 0.70620\n",
      "Epoch 36, CIFAR-10 Batch 1:  Loss: 0.60797 | Validation Accuracy: 0.70540\n",
      "Epoch 36, CIFAR-10 Batch 2:  Loss: 0.61062 | Validation Accuracy: 0.71200\n",
      "Epoch 36, CIFAR-10 Batch 3:  Loss: 0.59584 | Validation Accuracy: 0.71720\n",
      "Epoch 36, CIFAR-10 Batch 4:  Loss: 0.58005 | Validation Accuracy: 0.70360\n",
      "Epoch 36, CIFAR-10 Batch 5:  Loss: 0.58786 | Validation Accuracy: 0.70540\n",
      "Epoch 37, CIFAR-10 Batch 1:  Loss: 0.59620 | Validation Accuracy: 0.70840\n",
      "Epoch 37, CIFAR-10 Batch 2:  Loss: 0.60049 | Validation Accuracy: 0.71200\n",
      "Epoch 37, CIFAR-10 Batch 3:  Loss: 0.58707 | Validation Accuracy: 0.71940\n",
      "Epoch 37, CIFAR-10 Batch 4:  Loss: 0.57072 | Validation Accuracy: 0.70520\n",
      "Epoch 37, CIFAR-10 Batch 5:  Loss: 0.57500 | Validation Accuracy: 0.70640\n",
      "Epoch 38, CIFAR-10 Batch 1:  Loss: 0.58326 | Validation Accuracy: 0.70880\n",
      "Epoch 38, CIFAR-10 Batch 2:  Loss: 0.59010 | Validation Accuracy: 0.71240\n",
      "Epoch 38, CIFAR-10 Batch 3:  Loss: 0.57773 | Validation Accuracy: 0.71700\n",
      "Epoch 38, CIFAR-10 Batch 4:  Loss: 0.56021 | Validation Accuracy: 0.70500\n",
      "Epoch 38, CIFAR-10 Batch 5:  Loss: 0.56573 | Validation Accuracy: 0.70760\n",
      "Epoch 39, CIFAR-10 Batch 1:  Loss: 0.57365 | Validation Accuracy: 0.70880\n",
      "Epoch 39, CIFAR-10 Batch 2:  Loss: 0.58263 | Validation Accuracy: 0.70920\n",
      "Epoch 39, CIFAR-10 Batch 3:  Loss: 0.57020 | Validation Accuracy: 0.71480\n",
      "Epoch 39, CIFAR-10 Batch 4:  Loss: 0.54998 | Validation Accuracy: 0.70680\n",
      "Epoch 39, CIFAR-10 Batch 5:  Loss: 0.55471 | Validation Accuracy: 0.70960\n",
      "Epoch 40, CIFAR-10 Batch 1:  Loss: 0.56192 | Validation Accuracy: 0.71220\n",
      "Epoch 40, CIFAR-10 Batch 2:  Loss: 0.57310 | Validation Accuracy: 0.71080\n",
      "Epoch 40, CIFAR-10 Batch 3:  Loss: 0.56664 | Validation Accuracy: 0.71220\n",
      "Epoch 40, CIFAR-10 Batch 4:  Loss: 0.54075 | Validation Accuracy: 0.70840\n",
      "Epoch 40, CIFAR-10 Batch 5:  Loss: 0.54431 | Validation Accuracy: 0.71220\n"
     ]
    }
   ],
   "source": [
    "\"\"\"\n",
    "DON'T MODIFY ANYTHING IN THIS CELL\n",
    "\"\"\"\n",
    "save_model_path = './image_classification'\n",
    "\n",
    "print('Training...')\n",
    "with tf.Session() as sess:\n",
    "    # Initializing the variables\n",
    "    sess.run(tf.global_variables_initializer())\n",
    "    \n",
    "    # Training cycle\n",
    "    for epoch in range(epochs):\n",
    "        # Loop over all batches\n",
    "        n_batches = 5\n",
    "        for batch_i in range(1, n_batches + 1):\n",
    "            for batch_features, batch_labels in helper.load_preprocess_training_batch(batch_i, batch_size):\n",
    "                train_neural_network(sess, optimizer, keep_probability, batch_features, batch_labels)\n",
    "            print('Epoch {:>2}, CIFAR-10 Batch {}:  '.format(epoch + 1, batch_i), end='')\n",
    "            print_stats(sess, batch_features, batch_labels, cost, accuracy)\n",
    "            \n",
    "    # Save Model\n",
    "    saver = tf.train.Saver()\n",
    "    save_path = saver.save(sess, save_model_path)"
   ]
  },
  {
   "cell_type": "markdown",
   "metadata": {},
   "source": [
    "# Checkpoint\n",
    "The model has been saved to disk.\n",
    "## Test Model\n",
    "Test your model against the test dataset.  This will be your final accuracy. You should have an accuracy greater than 50%. If you don't, keep tweaking the model architecture and parameters."
   ]
  },
  {
   "cell_type": "code",
   "execution_count": 129,
   "metadata": {},
   "outputs": [
    {
     "name": "stdout",
     "output_type": "stream",
     "text": [
      "INFO:tensorflow:Restoring parameters from ./image_classification\n",
      "Testing Accuracy: 0.7096819221973419\n",
      "\n"
     ]
    },
    {
     "data": {
      "image/png": "[encoded data removed]",
      "text/plain": [
       "<matplotlib.figure.Figure at 0x11685240>"
      ]
     },
     "metadata": {
      "image/png": {
       "height": 319,
       "width": 355
      }
     },
     "output_type": "display_data"
    }
   ],
   "source": [
    "\"\"\"\n",
    "DON'T MODIFY ANYTHING IN THIS CELL\n",
    "\"\"\"\n",
    "%matplotlib inline\n",
    "%config InlineBackend.figure_format = 'retina'\n",
    "\n",
    "import tensorflow as tf\n",
    "import pickle\n",
    "import helper\n",
    "import random\n",
    "\n",
    "# Set batch size if not already set\n",
    "try:\n",
    "    if batch_size:\n",
    "        pass\n",
    "except NameError:\n",
    "    batch_size = 64\n",
    "\n",
    "save_model_path = './image_classification'\n",
    "n_samples = 4\n",
    "top_n_predictions = 3\n",
    "\n",
    "def test_model():\n",
    "    \"\"\"\n",
    "    Test the saved model against the test dataset\n",
    "    \"\"\"\n",
    "\n",
    "    test_features, test_labels = pickle.load(open('preprocess_training.p', mode='rb'))\n",
    "    loaded_graph = tf.Graph()\n",
    "\n",
    "    with tf.Session(graph=loaded_graph) as sess:\n",
    "        # Load model\n",
    "        loader = tf.train.import_meta_graph(save_model_path + '.meta')\n",
    "        loader.restore(sess, save_model_path)\n",
    "\n",
    "        # Get Tensors from loaded model\n",
    "        loaded_x = loaded_graph.get_tensor_by_name('x:0')\n",
    "        loaded_y = loaded_graph.get_tensor_by_name('y:0')\n",
    "        loaded_keep_prob = loaded_graph.get_tensor_by_name('keep_prob:0')\n",
    "        loaded_logits = loaded_graph.get_tensor_by_name('logits:0')\n",
    "        loaded_acc = loaded_graph.get_tensor_by_name('accuracy:0')\n",
    "        \n",
    "        # Get accuracy in batches for memory limitations\n",
    "        test_batch_acc_total = 0\n",
    "        test_batch_count = 0\n",
    "        \n",
    "        for train_feature_batch, train_label_batch in helper.batch_features_labels(test_features, test_labels, batch_size):\n",
    "            test_batch_acc_total += sess.run(\n",
    "                loaded_acc,\n",
    "                feed_dict={loaded_x: train_feature_batch, loaded_y: train_label_batch, loaded_keep_prob: 1.0})\n",
    "            test_batch_count += 1\n",
    "\n",
    "        print('Testing Accuracy: {}\\n'.format(test_batch_acc_total/test_batch_count))\n",
    "\n",
    "        # Print Random Samples\n",
    "        random_test_features, random_test_labels = tuple(zip(*random.sample(list(zip(test_features, test_labels)), n_samples)))\n",
    "        random_test_predictions = sess.run(\n",
    "            tf.nn.top_k(tf.nn.softmax(loaded_logits), top_n_predictions),\n",
    "            feed_dict={loaded_x: random_test_features, loaded_y: random_test_labels, loaded_keep_prob: 1.0})\n",
    "        helper.display_image_predictions(random_test_features, random_test_labels, random_test_predictions)\n",
    "\n",
    "\n",
    "test_model()"
   ]
  },
  {
   "cell_type": "markdown",
   "metadata": {},
   "source": [
    "## Why 50-80% Accuracy?\n",
    "You might be wondering why you can't get an accuracy any higher. First things first, 50% isn't bad for a simple CNN.  Pure guessing would get you 10% accuracy."
   ]
  }
 ],
 "metadata": {
  "kernelspec": {
   "display_name": "Python 3",
   "language": "python",
   "name": "python3"
  },
  "language_info": {
   "codemirror_mode": {
    "name": "ipython",
    "version": 3
   },
   "file_extension": ".py",
   "mimetype": "text/x-python",
   "name": "python",
   "nbconvert_exporter": "python",
   "pygments_lexer": "ipython3",
   "version": "3.6.0"
  }
 },
 "nbformat": 4,
 "nbformat_minor": 1
}
